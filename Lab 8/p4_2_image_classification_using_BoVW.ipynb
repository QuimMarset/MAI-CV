{
  "nbformat": 4,
  "nbformat_minor": 0,
  "metadata": {
    "colab": {
      "name": "Final_p4_2_image_classification_using_BoVW.ipynb",
      "provenance": [],
      "collapsed_sections": []
    },
    "kernelspec": {
      "display_name": "Python 3",
      "name": "python3"
    },
    "language_info": {
      "codemirror_mode": {
        "name": "ipython",
        "version": 3
      },
      "file_extension": ".py",
      "mimetype": "text/x-python",
      "name": "python",
      "nbconvert_exporter": "python",
      "pygments_lexer": "ipython3",
      "version": "3.8.12"
    },
    "accelerator": "GPU"
  },
  "cells": [
    {
      "cell_type": "markdown",
      "metadata": {
        "id": "Sk0eYw8ojrFq"
      },
      "source": [
        "# Laboratory #4_2 : Image Classification using Bag of Visual Words\n",
        "\n",
        "At the end of this laboratory, you would get familiarized with\n",
        "\n",
        "*   Creating Bag of Visual Words\n",
        "    *   Feature Extraction\n",
        "    *   Codebook construction\n",
        "    *   Classification\n",
        "*   Using pre-trained deep networks for feature extraction\n",
        "\n",
        "**Remember this is a graded exercise.**\n",
        "\n",
        "*   For every plot, make sure you provide appropriate titles, axis labels, legends, wherever applicable.\n",
        "*   Create reusable functions where ever possible, so that the code could be reused at different places.\n",
        "*   Mount your drive to access the images.\n",
        "*   Add sufficient comments and explanations wherever necessary.\n",
        "\n",
        "---"
      ]
    },
    {
      "cell_type": "markdown",
      "source": [
        "**Authors**\n",
        "- Joaquim Marset Alsina\n",
        "- Jesús Molina Rodríguez de Vera"
      ],
      "metadata": {
        "id": "0Bpip37MgQK_"
      }
    },
    {
      "cell_type": "code",
      "metadata": {
        "id": "sYHw1lSBldl-",
        "colab": {
          "base_uri": "https://localhost:8080/"
        },
        "outputId": "ea33b0e6-a02b-4055-957d-534f83db1764"
      },
      "source": [
        "from google.colab import drive\n",
        "drive.mount('/content/drive')"
      ],
      "execution_count": 1,
      "outputs": [
        {
          "output_type": "stream",
          "name": "stdout",
          "text": [
            "Mounted at /content/drive\n"
          ]
        }
      ]
    },
    {
      "cell_type": "code",
      "metadata": {
        "id": "aD5-E8PuaQ5P"
      },
      "source": [
        "# Loading necessary libraries (Feel free to add new libraries if you need for any computation)\n",
        "\n",
        "import os\n",
        "import numpy as np\n",
        "\n",
        "from skimage.feature import ORB\n",
        "from skimage.color import rgb2gray, gray2rgb\n",
        "from skimage.io import imread\n",
        "from scipy.cluster.vq import vq\n",
        "\n",
        "from matplotlib import pyplot as plt\n",
        "from sklearn.cluster import MiniBatchKMeans\n",
        "from sklearn.model_selection import train_test_split\n",
        "from sklearn.metrics import confusion_matrix, accuracy_score\n",
        "\n",
        "import pandas as pd\n",
        "from tensorflow import keras\n",
        "from tensorflow.keras.applications.resnet50 import ResNet50\n",
        "\n",
        "import cv2"
      ],
      "execution_count": 2,
      "outputs": []
    },
    {
      "cell_type": "markdown",
      "metadata": {
        "id": "ampx9DIJiuGN"
      },
      "source": [
        "## Loading dataset\n",
        "\n",
        "We will use 3 categories from Caltech 101 objects dataset for this experiment. Upload the dataset to the drive and mount it."
      ]
    },
    {
      "cell_type": "code",
      "metadata": {
        "id": "PRSJP1XbG6-a"
      },
      "source": [
        "# modify the dataset variable with the path from your drive\n",
        "\n",
        "dataset_path = r'/content/drive/MyDrive/CV - Lab/Lab 8/101_ObjectCategories/'"
      ],
      "execution_count": 3,
      "outputs": []
    },
    {
      "cell_type": "code",
      "metadata": {
        "id": "fNoe7u755X6Q"
      },
      "source": [
        "categories = ['butterfly', 'kangaroo', 'dalmatian']\n",
        "ncl = len(categories) * 10"
      ],
      "execution_count": 4,
      "outputs": []
    },
    {
      "cell_type": "markdown",
      "metadata": {
        "id": "gxY0mDoK5EQj"
      },
      "source": [
        "*   Create a list of file and the corresponding labels"
      ]
    },
    {
      "cell_type": "code",
      "metadata": {
        "id": "EQptvDX5AFem",
        "outputId": "e70ae093-bdab-42d5-fdcc-d2655ea475bf",
        "colab": {
          "base_uri": "https://localhost:8080/"
        }
      },
      "source": [
        "# solution\n",
        "data = []\n",
        "labels = []\n",
        "\n",
        "for category in categories:\n",
        "    folder_path = os.path.join(dataset_path, category)\n",
        "    file_names = os.listdir(folder_path)\n",
        "    for file_name in file_names:\n",
        "        image = imread(os.path.join(folder_path, file_name))\n",
        "        data.append(image)\n",
        "        labels.append(category)\n",
        "\n",
        "data = np.array(data)\n",
        "labels = np.array(labels)"
      ],
      "execution_count": 5,
      "outputs": [
        {
          "output_type": "stream",
          "name": "stderr",
          "text": [
            "/usr/local/lib/python3.7/dist-packages/ipykernel_launcher.py:13: VisibleDeprecationWarning: Creating an ndarray from ragged nested sequences (which is a list-or-tuple of lists-or-tuples-or ndarrays with different lengths or shapes) is deprecated. If you meant to do this, you must specify 'dtype=object' when creating the ndarray\n",
            "  del sys.path[0]\n"
          ]
        }
      ]
    },
    {
      "cell_type": "code",
      "metadata": {
        "id": "3x42veHz5LDt",
        "outputId": "bc422906-1b29-427c-b816-3503ec353fb6",
        "colab": {
          "base_uri": "https://localhost:8080/"
        }
      },
      "source": [
        "print('Total number of images:', len(data))"
      ],
      "execution_count": 6,
      "outputs": [
        {
          "output_type": "stream",
          "name": "stdout",
          "text": [
            "Total number of images: 244\n"
          ]
        }
      ]
    },
    {
      "cell_type": "markdown",
      "metadata": {
        "id": "XgVhdjYz5Zhs"
      },
      "source": [
        "*   Create a train / test split where the test is 10% of the total data"
      ]
    },
    {
      "cell_type": "code",
      "metadata": {
        "id": "QzYnjzXBZXXt"
      },
      "source": [
        "# solution\n",
        "x_train, x_test, y_train, y_test = train_test_split(data, labels, test_size=0.1, random_state=1234, stratify=labels)"
      ],
      "execution_count": 7,
      "outputs": []
    },
    {
      "cell_type": "code",
      "metadata": {
        "id": "gd057lAc5jze",
        "outputId": "5635bbe7-b41f-40e1-cbd6-2f33c5b18a49",
        "colab": {
          "base_uri": "https://localhost:8080/"
        }
      },
      "source": [
        "print('Train set:', len(x_train))\n",
        "print('Test set:', len(x_test))"
      ],
      "execution_count": 8,
      "outputs": [
        {
          "output_type": "stream",
          "name": "stdout",
          "text": [
            "Train set: 219\n",
            "Test set: 25\n"
          ]
        }
      ]
    },
    {
      "cell_type": "markdown",
      "metadata": {
        "id": "_Hl36Ej_5k6Y"
      },
      "source": [
        "*   How do you select the train/test split?"
      ]
    },
    {
      "cell_type": "markdown",
      "metadata": {
        "id": "-aOe27Kx5vtd"
      },
      "source": [
        "**Solution**\n",
        "\n",
        "To split the data into train and test sets, we are using the sklearn function `train_test_split` that automatizes this process. This function works by randomly shuffling the data if the `shuffle` parameter is not set to `False`, and then dividing the data into at least 2 subsets (i.e. train and test). The size of the test subset is specified by the `test_size` parameter, which in this case we have decided to leave only a 10% of the data for testing given the small dataset we are working with. Given that we are performing a random shuffling, we are setting the `random_state` parameter to some value to ensure reproducibility every time we execute the code. Finally, we have the `stratify` parameter. We are dealing with a dataset containing 91 butterflies, 67 dalmatians, and 86 kangaroos. We have a bit of imbalance, especially with the dalmatians. For that reason, stratifying the split comes in handy, as it will keep the same proportion of instances of the 3 classes in both the train and test set. This way we are ensuring both datasets will contain enough data of all classes, which will help with the generalization ability of the model we build."
      ]
    },
    {
      "cell_type": "markdown",
      "metadata": {
        "id": "18OZf2kfkVNB"
      },
      "source": [
        "## Feature Extraction using ORB\n",
        "\n",
        "The first step is to extract descriptors for each image in our dataset. We will use ORB to extract descriptors.\n",
        "\n",
        "*   Create ORB detector with 256 keypoints.\n"
      ]
    },
    {
      "cell_type": "code",
      "metadata": {
        "id": "ptLbPcoow-ar"
      },
      "source": [
        "# solution\n",
        "descriptor_extractor = ORB(n_keypoints=256)"
      ],
      "execution_count": 9,
      "outputs": []
    },
    {
      "cell_type": "markdown",
      "metadata": {
        "id": "3yinPkL8brow"
      },
      "source": [
        "*   Extract ORB descriptors from all the images in the train set.\n"
      ]
    },
    {
      "cell_type": "code",
      "metadata": {
        "id": "PCiXJeLFxGtP"
      },
      "source": [
        "# solution\n",
        "def extract_descriptors(descriptor_extractor, image):\n",
        "    if len(image.shape) != 2:\n",
        "        gray_img = rgb2gray(image)\n",
        "    else:\n",
        "        gray_img = image\n",
        "    descriptor_extractor.detect_and_extract(gray_img)\n",
        "    return descriptor_extractor.descriptors"
      ],
      "execution_count": 10,
      "outputs": []
    },
    {
      "cell_type": "code",
      "source": [
        "train_descriptors = [extract_descriptors(descriptor_extractor, image) for image in x_train]"
      ],
      "metadata": {
        "id": "chJVQ2GE1_FD"
      },
      "execution_count": null,
      "outputs": []
    },
    {
      "cell_type": "code",
      "source": [
        "print(f'Size of each descriptor: {train_descriptors[0].shape[1]}')"
      ],
      "metadata": {
        "colab": {
          "base_uri": "https://localhost:8080/"
        },
        "id": "ZDDjb5TNffyZ",
        "outputId": "e03519f9-624b-4edc-d1eb-1deeade14177"
      },
      "execution_count": 12,
      "outputs": [
        {
          "output_type": "stream",
          "name": "stdout",
          "text": [
            "Size of each descriptor: 256\n"
          ]
        }
      ]
    },
    {
      "cell_type": "code",
      "source": [
        "# If we try to create a numpy array from the training descriptors we cannot.\n",
        "# This is because there is an image with less than 256 keypoints\n",
        "for i in range(len(train_descriptors)):\n",
        "    if train_descriptors[i].shape != (256, 256):\n",
        "        print(train_descriptors[i].shape)"
      ],
      "metadata": {
        "colab": {
          "base_uri": "https://localhost:8080/"
        },
        "id": "W-GNr9fEdfon",
        "outputId": "c32f48fc-fef0-46c4-8333-124709c3b2c7"
      },
      "execution_count": 13,
      "outputs": [
        {
          "output_type": "stream",
          "name": "stdout",
          "text": [
            "(231, 256)\n"
          ]
        }
      ]
    },
    {
      "cell_type": "markdown",
      "metadata": {
        "id": "GJehFdyt583b"
      },
      "source": [
        "*   What is the size of the feature descriptors? What does each dimension represent in the feature descriptors?"
      ]
    },
    {
      "cell_type": "markdown",
      "metadata": {
        "id": "MNFOjsRj6PGk"
      },
      "source": [
        "**Solution**\n",
        "\n",
        "As we explained in the previous lab that we worked with ORB, ORB is a combination of the FAST corner detection, and the BRIEF feature representation variation called rotated BRIEF. For each corner we found with FAST, we apply rotated BRIEF to obtain a binary vector of 256 positions representing that corner [ORB explanation](https://medium.com/data-breach/introduction-to-orb-oriented-fast-and-rotated-brief-4220e8ec40cf).\n",
        "\n",
        "The idea of BRIEF is to consider a pair of pixels in the neighbourhood of the detected corner, and check their intensity. If the first one is brighter than the second, a 1 is added to the binary vector, and 0 otherwise. This process is repeated in this case 256 times to generate the final keypoint descriptor we will use to build the Bag of Words.\n",
        "To obtain all these pixels, first, Gaussian smoothing is performed on the image to avoid generating a descriptor that is very sensitive to noise. Then, the first pixel of the pair is randomly drawn from a normal distribution centred in the keypoint, with a certain sigma. The second pixel is drawn from another normal distribution, now centred in the first pixel and with a spreading of the previous sigma divided by 2.\n",
        "\n",
        "BRIEF has the problem of rotation variance, and steer BRIEF appears as an alternative to try and achieve the desired invariance property. Steer BRIEF works by taking into account the orientation of the patch around the keypoint where we extract the pixels to create the original BRIEF binary vector. It first creates a matrix $S$ containing all the pairs of pixels used to create the original BRIEF vector. Then, it finds the orientation of the patch and computes the corresponding rotation matrix $R\\theta$, which is multiplied with the matrix $S$ to obtain the rotated version of $S$, $S\\theta$. Given all the possible orientations, ORB discretizes the possible angle in increments of $\\frac{2\\pi}{30}$ degrees and constructs a lookup table. Then, if we have different possible orientations of the same keypoint, as long as it is consistent across different views, we will ensure to use the correct set of points $S\\theta$ to compute the descriptor.\n",
        "\n",
        "Steer BRIEF loses a desirable property BRIEF has that is that each feature has a large variance and a mean near 0.5, but once the rotation is applied we lose this property. Also, we want the different pixel intensity tests we do to generate each bit of the feature vector to be as uncorrelated as possible, permitting each test to contribute to the result.  \n",
        "For this reason, appears rotated BRIEF. What it does is to perform a greedy search among all the pixel intensity tests that can be obtained from the different orientations of the patch containing a keypoint, keeping the ones with a mean near 0.5, most variance, and most uncorrelated as possible. [steer BRIEF and rotated BRIEF explanation](https://www.youtube.com/watch?v=FKi4ETjaTaU)"
      ]
    },
    {
      "cell_type": "markdown",
      "metadata": {
        "id": "420YQkAzleTQ"
      },
      "source": [
        "## Codebook Construction\n",
        "\n",
        "Codewords are nothing but vector representation of similar patches. This codeword produces a codebook similar to a word dictionary. We will create the codebook using K-Means algorithm\n",
        "\n",
        "*   Create a codebook using K-Means with k=number_of_classes*10\n",
        "*   Hint: Use sklearn.cluster.MiniBatchKMeans for K-Means"
      ]
    },
    {
      "cell_type": "code",
      "metadata": {
        "id": "iO0e4718ppJt",
        "colab": {
          "base_uri": "https://localhost:8080/"
        },
        "outputId": "d868ca70-f913-4e70-fd89-70f7523ada50"
      },
      "source": [
        "# solution\n",
        "codebook = MiniBatchKMeans(n_clusters=ncl, random_state=1234)\n",
        "# We apply a vertical stacking to fit to K-Means because of that image with fewer keypoints\n",
        "codebook.fit(np.vstack(train_descriptors))"
      ],
      "execution_count": null,
      "outputs": [
        {
          "output_type": "execute_result",
          "data": {
            "text/plain": [
              "MiniBatchKMeans(n_clusters=30, random_state=1234)"
            ]
          },
          "metadata": {},
          "execution_count": 13
        }
      ]
    },
    {
      "cell_type": "markdown",
      "metadata": {
        "id": "0GAD_JuNpqMt"
      },
      "source": [
        "*   Create a histogram using the cluster centers for each image descriptor.\n",
        "    *   Remember the histogram would be of size *n_images x n_clusters*."
      ]
    },
    {
      "cell_type": "code",
      "metadata": {
        "id": "SR0_9HnbDFBe"
      },
      "source": [
        "# solution\n",
        "def compute_histograms(codebook, descriptors, n_clusters=ncl):\n",
        "    histogram = np.zeros((len(descriptors), n_clusters), dtype='float32')\n",
        "\n",
        "    for i in range(len(descriptors)):\n",
        "        if len(descriptors[i].shape) == 1:\n",
        "            codewords_i = codebook.predict(descriptors[i].reshape(1, -1))\n",
        "        else:\n",
        "            codewords_i = codebook.predict(descriptors[i])\n",
        "        histogram[i, :] = np.histogram(codewords_i, ncl, range=(0, ncl-1), density=True)[0]\n",
        "\n",
        "    return histogram"
      ],
      "execution_count": null,
      "outputs": []
    },
    {
      "cell_type": "code",
      "source": [
        "train_histograms = compute_histograms(codebook, train_descriptors)"
      ],
      "metadata": {
        "id": "v2lThsrMiDkD"
      },
      "execution_count": null,
      "outputs": []
    },
    {
      "cell_type": "markdown",
      "metadata": {
        "id": "jmRO7dfLjgZa"
      },
      "source": [
        "\n",
        "# Creating Classification Model\n",
        "\n",
        "*   The next step is to create a classification model. We will use a C-Support Vector Classification for creating the model.\n",
        "\n"
      ]
    },
    {
      "cell_type": "code",
      "metadata": {
        "id": "K7VTBz1Oimtz"
      },
      "source": [
        "from sklearn.svm import SVC\n",
        "from sklearn.model_selection import GridSearchCV"
      ],
      "execution_count": null,
      "outputs": []
    },
    {
      "cell_type": "markdown",
      "metadata": {
        "id": "lrit95Ud6pUU"
      },
      "source": [
        "*   Use GridSearchCV to find the optimal value of C and Gamma."
      ]
    },
    {
      "cell_type": "code",
      "metadata": {
        "id": "IjFFpykV-GOI",
        "colab": {
          "base_uri": "https://localhost:8080/"
        },
        "outputId": "8f08e831-92ac-4d00-d350-2bd3be8a7a0a"
      },
      "source": [
        "# solution\n",
        "def train_svc(X, y):\n",
        "    parameters = {'kernel': ('linear', 'rbf'), 'C': np.arange(1, 10), \n",
        "                  'gamma': ['auto', 'scale']+np.linspace(0,2, 21).tolist()}\n",
        "    grid_search = GridSearchCV(SVC(), parameters, cv=10)\n",
        "    grid_search.fit(X, y)\n",
        "    best_estimator = grid_search.best_estimator_\n",
        "    print(f'Optimal params: {grid_search.best_params_}')\n",
        "    print(f'10-fold Cross-Validation Accuracy: {grid_search.best_score_}')\n",
        "    return best_estimator\n",
        "\n",
        "best_model = train_svc(train_histograms, y_train)"
      ],
      "execution_count": null,
      "outputs": [
        {
          "output_type": "stream",
          "name": "stdout",
          "text": [
            "Optimal params: {'C': 5, 'gamma': 'scale', 'kernel': 'rbf'}\n",
            "10-fold Cross-Validation Accuracy: 0.6805194805194806\n"
          ]
        }
      ]
    },
    {
      "cell_type": "markdown",
      "metadata": {
        "id": "eqThTmO5j1-p"
      },
      "source": [
        "# Testing the Classification Model\n",
        "\n",
        "*   Extract descriptors using ORB for the test split\n",
        "*   Use the previously trained k-means to generate the histogram\n",
        "*   Use the classifier to predict the label\n"
      ]
    },
    {
      "cell_type": "code",
      "metadata": {
        "id": "x2Gzbww9e0pP"
      },
      "source": [
        "# solution\n",
        "test_descriptors = np.array([extract_descriptors(descriptor_extractor, image) for image in x_test])\n",
        "\n",
        "test_histograms = compute_histograms(codebook, test_descriptors)\n",
        "\n",
        "test_predictions = best_model.predict(test_histograms)"
      ],
      "execution_count": null,
      "outputs": []
    },
    {
      "cell_type": "markdown",
      "metadata": {
        "id": "gGyQUtU3lAEz"
      },
      "source": [
        "*   Calculate the accuracy score for the classification model"
      ]
    },
    {
      "cell_type": "code",
      "metadata": {
        "id": "PszxSB0Ek_Lt",
        "colab": {
          "base_uri": "https://localhost:8080/"
        },
        "outputId": "01622069-5044-41d5-8243-5446616fec14"
      },
      "source": [
        "# solution\n",
        "print(f'Test accuracy with best estimator: {accuracy_score(y_test, test_predictions)}')"
      ],
      "execution_count": null,
      "outputs": [
        {
          "output_type": "stream",
          "name": "stdout",
          "text": [
            "Test accuracy with best estimator 0.8\n"
          ]
        }
      ]
    },
    {
      "cell_type": "markdown",
      "metadata": {
        "id": "drlq-5AM615_"
      },
      "source": [
        "*   Generate the confusion matrix for the classification model"
      ]
    },
    {
      "cell_type": "code",
      "metadata": {
        "id": "NpqXVYrw61OG",
        "colab": {
          "base_uri": "https://localhost:8080/"
        },
        "outputId": "9c9cc93d-9078-4cdf-a707-69deaf7c0e97"
      },
      "source": [
        "# solution\n",
        "categories = ['butterfly', 'dalmatian', 'kangaroo']\n",
        "cm = pd.DataFrame(confusion_matrix(y_test, test_predictions), index=categories, columns=categories)\n",
        "print(cm)"
      ],
      "execution_count": null,
      "outputs": [
        {
          "output_type": "stream",
          "name": "stdout",
          "text": [
            "           butterfly  dalmatian  kangaroo\n",
            "butterfly          7          1         1\n",
            "dalmatian          1          5         1\n",
            "kangaroo           1          0         8\n"
          ]
        }
      ]
    },
    {
      "cell_type": "markdown",
      "metadata": {
        "id": "7TN4rRra9yv_"
      },
      "source": [
        "*   Why do we use Clustering to create the codebook? \n",
        "*   What are the other techniques that can be used to create the codebook?"
      ]
    },
    {
      "cell_type": "markdown",
      "metadata": {
        "id": "Ri9kU3wa3Rei"
      },
      "source": [
        "**Solution**\n",
        "\n",
        "We use clustering because we can have a lot of descriptors for similar image corners. For example, we can have in different images a descriptor representing a corner found in the eye of a person. In that case, we do not want to have different codewords representing a similar patch, given that we would end with a Bag of Words containing low-frequency values (i.e. a histogram with lots of bins but low frequencies), and possibly, a sparse vector. For this reason, we group them in clusters to generate a set of representative codewords that can be used to generate the subsequent set of features to be trained with SVM to classify images.\n",
        "\n",
        "Other techniques used to create the codebook are:\n",
        "\n",
        "**Linde Buzo Gray (LBG)**\n",
        "\n",
        "The idea of this algorithm is to iteratively increase the size of the codebook by generating 2 new codewords for each one of the codewords of the previous iteration.\n",
        "It starts by computing an average of all the image patches of the training set, considering it as the initial codeword. Then, it adds and subtracts a constant vector to this initial codeword to generate 2 new ones that will form the new codebook.\n",
        "\n",
        "In this stage, we have a codebook consisting of 2 codewords, and the train patches are assigned to each codeword in the same fashion as K-Means by the minimum euclidean distance.\n",
        "\n",
        "The process of generating 2 new codewords per each one of the previous codewords, and then assigning the train patches, is repeated until reaching the desired codebook size.\n",
        "\n",
        "[LGB explained](https://citeseerx.ist.psu.edu/viewdoc/download?doi=10.1.1.259.828&rep=rep1&type=pdf)\n",
        "\n",
        "\n",
        "**Pairwise Nearest Neighbour (PNN)**\n",
        "\n",
        "It is a hierarchical agglomerative clustering approach. It starts by considering each possible image patch of the training set as a cluster (i.e. as many clusters as possible image patches), and iteratively it merges clusters until the desired final number of clusters is obtained. When merging 2 clusters, the algorithm will always merge those that are closest in terms of some distance function like euclidean ([PNN explained](https://www.researchgate.net/publication/27661047_Pairwise_Nearest_Neighbor_Method_Revisited)).\n",
        "\n",
        "**Kekre’s Proportionate Error (KPE)**\n",
        "\n",
        "The idea of this algorithm is similar to the one LBG uses, but the way it generates new codewords is slightly different.  \n",
        "Therefore, it also starts with a codebook of size 1, and iteratively increase the size of the codebook by generating 2 new codewords for each one of the previous iterations.\n",
        "It starts by computing the mean of all possible image patches of the training set. This mean will represent the initial codeword. An error vector is computed by using this first codeword, and 2 new codewords are generated by respectively adding and subtracting the error vector to the initial codeword.  \n",
        "\n",
        "Then, the process is the same as with LBG, associating the train patches, and repeating the steps until achieving the desired codebook size or until reaching a minimum error. \n",
        "\n",
        "([KPE explained](https://www.researchgate.net/publication/265751061_Two-level_Vector_Quantization_Method_for_Codebook_Generation_using_Kekre's_Proportionate_Error_Algorithm))\n",
        "\n",
        "There are other algorithms used to generate codebooks. In the same link where LGB is explained, there are other techniques.\n",
        "Another technique we have not explained is the one presented [here](https://jmlr.org/papers/volume12/wu11b/wu11b.pdf)."
      ]
    },
    {
      "cell_type": "markdown",
      "metadata": {
        "id": "ll0j8G-oIaHd"
      },
      "source": [
        "*   Will adding more keypoints increase the performanc of the algorithm?"
      ]
    },
    {
      "cell_type": "markdown",
      "metadata": {
        "id": "ka3z1sJVInS5"
      },
      "source": [
        "**Solution**\n",
        "\n",
        "Increasing the number of extracted keypoints in each image will result in more descriptors that when later clustered with K-Means, will suppose more points associated with each cluster. In this case, we are not changing the number of clusters, so the number of histogram bins that will later serve as features to the SVC will not change either.  \n",
        "The only change will be in the frequency of each codeword in the BoVW for each image (i.e. frequency of the different bins in the histogram), and given that we normalize them, will end up in smaller values, more closer to 0.\n",
        "\n",
        "Besides, we have to take into account that increasing the number of desired keypoints will not necessarily mean that more keypoints will be extracted. We have already seen that with a particular image, the number of extracted keypoints was less than the expected 256.  \n",
        "Therefore, we may need to tune the other ORB parameters to increase the number of keypoints."
      ]
    },
    {
      "cell_type": "code",
      "source": [
        "descriptor_extractor = ORB(n_keypoints=500)\n",
        "image_descriptor = extract_descriptors(descriptor_extractor, x_train[0])\n",
        "print(image_descriptor.shape)"
      ],
      "metadata": {
        "colab": {
          "base_uri": "https://localhost:8080/"
        },
        "id": "lWf_k4iw8Nn8",
        "outputId": "07c85f16-9d08-4f84-d9f6-a159efdde823"
      },
      "execution_count": null,
      "outputs": [
        {
          "output_type": "stream",
          "name": "stdout",
          "text": [
            "(500, 256)\n"
          ]
        }
      ]
    },
    {
      "cell_type": "markdown",
      "source": [
        "We see that in this case, we can obtain for a random image more descriptors by simply changing the parameter. Therefore, when trying to test the results we can obtain by increasing the number of descriptors, we will assume that only increasing that parameter will be enough."
      ],
      "metadata": {
        "id": "ogKszF_j8Q37"
      }
    },
    {
      "cell_type": "markdown",
      "source": [
        "In any case, we believe that in some cases it could be possible to improve the performance we could obtain with some image if the number of keypoints is not enough to extract some relevant patch that may be needed to correctly classify an image.\n",
        "\n",
        "However, and overall, we believe that in this particular set of images, the performance will not significantly improve by adding more than the current 256 keypoints. We are going to check it in the following cell by repeating the previous computations, but changing the descriptor extractor:"
      ],
      "metadata": {
        "id": "6yOoyosX8OGj"
      }
    },
    {
      "cell_type": "code",
      "source": [
        "def test_orb_keypoints(n_keypoints, train_data, test_data, n_clusters=ncl):\n",
        "    descriptor_extractor = ORB(n_keypoints=n_keypoints)\n",
        "\n",
        "    train_descriptors = [extract_descriptors(descriptor_extractor, image) for image in train_data]\n",
        "    test_descriptors = [extract_descriptors(descriptor_extractor, image) for image in test_data]\n",
        "\n",
        "    codebook = MiniBatchKMeans(n_clusters=ncl, random_state=1234)\n",
        "    codebook.fit(np.vstack(train_descriptors))\n",
        "\n",
        "    train_histograms = compute_histograms(codebook, train_descriptors)\n",
        "    test_histograms = compute_histograms(codebook, test_descriptors)\n",
        "\n",
        "    return train_histograms, test_histograms\n",
        "\n",
        "def train_test_svc(train_histograms, test_histograms, y_train, y_test):\n",
        "    best_model = train_svc(train_histograms, y_train)\n",
        "    test_predictions = best_model.predict(test_histograms)\n",
        "    print(f'Test accuracy with best estimator: {accuracy_score(y_test, test_predictions)}')"
      ],
      "metadata": {
        "id": "lPGoJKq-c3EB"
      },
      "execution_count": null,
      "outputs": []
    },
    {
      "cell_type": "code",
      "source": [
        "for n_keypoints in [100, 256, 300, 400]:\n",
        "    print(f'Number of keypoints: {n_keypoints}')\n",
        "    train_histograms, test_histograms = test_orb_keypoints(n_keypoints, x_train, x_test)\n",
        "    train_test_svc(train_histograms, test_histograms, y_train, y_test)\n",
        "\n",
        "    print()"
      ],
      "metadata": {
        "colab": {
          "base_uri": "https://localhost:8080/"
        },
        "id": "uTPj5_qxXq1Y",
        "outputId": "02d2a341-dfbe-4597-fc38-c919538078c3"
      },
      "execution_count": null,
      "outputs": [
        {
          "output_type": "stream",
          "name": "stdout",
          "text": [
            "Number of keypoints: 100\n",
            "Optimal params: {'C': 9, 'gamma': 1.6, 'kernel': 'rbf'}\n",
            "10-fold Cross-Validation Accuracy: 0.64004329004329\n",
            "Test accuracy with best estimator: 0.56\n",
            "\n",
            "Number of keypoints: 256\n",
            "Optimal params: {'C': 5, 'gamma': 'scale', 'kernel': 'rbf'}\n",
            "10-fold Cross-Validation Accuracy: 0.6805194805194806\n",
            "Test accuracy with best estimator: 0.8\n",
            "\n",
            "Number of keypoints: 300\n",
            "Optimal params: {'C': 1, 'gamma': 'scale', 'kernel': 'rbf'}\n",
            "10-fold Cross-Validation Accuracy: 0.6764069264069263\n",
            "Test accuracy with best estimator: 0.6\n",
            "\n",
            "Number of keypoints: 400\n",
            "Optimal params: {'C': 2, 'gamma': 1.7000000000000002, 'kernel': 'rbf'}\n",
            "10-fold Cross-Validation Accuracy: 0.6625541125541126\n",
            "Test accuracy with best estimator: 0.64\n",
            "\n"
          ]
        }
      ]
    },
    {
      "cell_type": "markdown",
      "source": [
        "As we can see, with less than 256 keypoints we are not able to obtain a very good accuracy in the test set, compared to the initial one we obtained with 256 keypoints. We have to take into account that the test set is only composed of 25 images, and if we fail in a few examples we are already losing considerably accuracy.\n",
        "\n",
        "We can see that by increasing the number over 256, we obtain a slight worsening in the train set. With the test set, we can see that there is no match with the one obtained with 256 keypoints."
      ],
      "metadata": {
        "id": "ch47YEBV8vOL"
      }
    },
    {
      "cell_type": "markdown",
      "metadata": {
        "id": "K-8E3dBw8Zoa"
      },
      "source": [
        "# Extracting features from Deep Network\n",
        "\n",
        "It is quite possible to extract features (similar to SIFT or ORB) from different layers of deep network.\n",
        "\n",
        "*   Load ResNet50 model with imagenet weights and check the summary of the model\n",
        "*   Create a model to extract features from the 'avg_pool' layer.\n",
        "*   Extract features from the layer for all the train images."
      ]
    },
    {
      "cell_type": "code",
      "metadata": {
        "id": "EJ83bPO3mO16",
        "colab": {
          "base_uri": "https://localhost:8080/"
        },
        "outputId": "b59ed8e3-2ad0-4cc3-ee98-ee78865c2a0d"
      },
      "source": [
        "# solution\n",
        "resnet = ResNet50(weights='imagenet')\n",
        "print(resnet.summary())"
      ],
      "execution_count": null,
      "outputs": [
        {
          "output_type": "stream",
          "name": "stdout",
          "text": [
            "Downloading data from https://storage.googleapis.com/tensorflow/keras-applications/resnet/resnet50_weights_tf_dim_ordering_tf_kernels.h5\n",
            "102973440/102967424 [==============================] - 1s 0us/step\n",
            "102981632/102967424 [==============================] - 1s 0us/step\n",
            "Model: \"resnet50\"\n",
            "__________________________________________________________________________________________________\n",
            " Layer (type)                   Output Shape         Param #     Connected to                     \n",
            "==================================================================================================\n",
            " input_1 (InputLayer)           [(None, 224, 224, 3  0           []                               \n",
            "                                )]                                                                \n",
            "                                                                                                  \n",
            " conv1_pad (ZeroPadding2D)      (None, 230, 230, 3)  0           ['input_1[0][0]']                \n",
            "                                                                                                  \n",
            " conv1_conv (Conv2D)            (None, 112, 112, 64  9472        ['conv1_pad[0][0]']              \n",
            "                                )                                                                 \n",
            "                                                                                                  \n",
            " conv1_bn (BatchNormalization)  (None, 112, 112, 64  256         ['conv1_conv[0][0]']             \n",
            "                                )                                                                 \n",
            "                                                                                                  \n",
            " conv1_relu (Activation)        (None, 112, 112, 64  0           ['conv1_bn[0][0]']               \n",
            "                                )                                                                 \n",
            "                                                                                                  \n",
            " pool1_pad (ZeroPadding2D)      (None, 114, 114, 64  0           ['conv1_relu[0][0]']             \n",
            "                                )                                                                 \n",
            "                                                                                                  \n",
            " pool1_pool (MaxPooling2D)      (None, 56, 56, 64)   0           ['pool1_pad[0][0]']              \n",
            "                                                                                                  \n",
            " conv2_block1_1_conv (Conv2D)   (None, 56, 56, 64)   4160        ['pool1_pool[0][0]']             \n",
            "                                                                                                  \n",
            " conv2_block1_1_bn (BatchNormal  (None, 56, 56, 64)  256         ['conv2_block1_1_conv[0][0]']    \n",
            " ization)                                                                                         \n",
            "                                                                                                  \n",
            " conv2_block1_1_relu (Activatio  (None, 56, 56, 64)  0           ['conv2_block1_1_bn[0][0]']      \n",
            " n)                                                                                               \n",
            "                                                                                                  \n",
            " conv2_block1_2_conv (Conv2D)   (None, 56, 56, 64)   36928       ['conv2_block1_1_relu[0][0]']    \n",
            "                                                                                                  \n",
            " conv2_block1_2_bn (BatchNormal  (None, 56, 56, 64)  256         ['conv2_block1_2_conv[0][0]']    \n",
            " ization)                                                                                         \n",
            "                                                                                                  \n",
            " conv2_block1_2_relu (Activatio  (None, 56, 56, 64)  0           ['conv2_block1_2_bn[0][0]']      \n",
            " n)                                                                                               \n",
            "                                                                                                  \n",
            " conv2_block1_0_conv (Conv2D)   (None, 56, 56, 256)  16640       ['pool1_pool[0][0]']             \n",
            "                                                                                                  \n",
            " conv2_block1_3_conv (Conv2D)   (None, 56, 56, 256)  16640       ['conv2_block1_2_relu[0][0]']    \n",
            "                                                                                                  \n",
            " conv2_block1_0_bn (BatchNormal  (None, 56, 56, 256)  1024       ['conv2_block1_0_conv[0][0]']    \n",
            " ization)                                                                                         \n",
            "                                                                                                  \n",
            " conv2_block1_3_bn (BatchNormal  (None, 56, 56, 256)  1024       ['conv2_block1_3_conv[0][0]']    \n",
            " ization)                                                                                         \n",
            "                                                                                                  \n",
            " conv2_block1_add (Add)         (None, 56, 56, 256)  0           ['conv2_block1_0_bn[0][0]',      \n",
            "                                                                  'conv2_block1_3_bn[0][0]']      \n",
            "                                                                                                  \n",
            " conv2_block1_out (Activation)  (None, 56, 56, 256)  0           ['conv2_block1_add[0][0]']       \n",
            "                                                                                                  \n",
            " conv2_block2_1_conv (Conv2D)   (None, 56, 56, 64)   16448       ['conv2_block1_out[0][0]']       \n",
            "                                                                                                  \n",
            " conv2_block2_1_bn (BatchNormal  (None, 56, 56, 64)  256         ['conv2_block2_1_conv[0][0]']    \n",
            " ization)                                                                                         \n",
            "                                                                                                  \n",
            " conv2_block2_1_relu (Activatio  (None, 56, 56, 64)  0           ['conv2_block2_1_bn[0][0]']      \n",
            " n)                                                                                               \n",
            "                                                                                                  \n",
            " conv2_block2_2_conv (Conv2D)   (None, 56, 56, 64)   36928       ['conv2_block2_1_relu[0][0]']    \n",
            "                                                                                                  \n",
            " conv2_block2_2_bn (BatchNormal  (None, 56, 56, 64)  256         ['conv2_block2_2_conv[0][0]']    \n",
            " ization)                                                                                         \n",
            "                                                                                                  \n",
            " conv2_block2_2_relu (Activatio  (None, 56, 56, 64)  0           ['conv2_block2_2_bn[0][0]']      \n",
            " n)                                                                                               \n",
            "                                                                                                  \n",
            " conv2_block2_3_conv (Conv2D)   (None, 56, 56, 256)  16640       ['conv2_block2_2_relu[0][0]']    \n",
            "                                                                                                  \n",
            " conv2_block2_3_bn (BatchNormal  (None, 56, 56, 256)  1024       ['conv2_block2_3_conv[0][0]']    \n",
            " ization)                                                                                         \n",
            "                                                                                                  \n",
            " conv2_block2_add (Add)         (None, 56, 56, 256)  0           ['conv2_block1_out[0][0]',       \n",
            "                                                                  'conv2_block2_3_bn[0][0]']      \n",
            "                                                                                                  \n",
            " conv2_block2_out (Activation)  (None, 56, 56, 256)  0           ['conv2_block2_add[0][0]']       \n",
            "                                                                                                  \n",
            " conv2_block3_1_conv (Conv2D)   (None, 56, 56, 64)   16448       ['conv2_block2_out[0][0]']       \n",
            "                                                                                                  \n",
            " conv2_block3_1_bn (BatchNormal  (None, 56, 56, 64)  256         ['conv2_block3_1_conv[0][0]']    \n",
            " ization)                                                                                         \n",
            "                                                                                                  \n",
            " conv2_block3_1_relu (Activatio  (None, 56, 56, 64)  0           ['conv2_block3_1_bn[0][0]']      \n",
            " n)                                                                                               \n",
            "                                                                                                  \n",
            " conv2_block3_2_conv (Conv2D)   (None, 56, 56, 64)   36928       ['conv2_block3_1_relu[0][0]']    \n",
            "                                                                                                  \n",
            " conv2_block3_2_bn (BatchNormal  (None, 56, 56, 64)  256         ['conv2_block3_2_conv[0][0]']    \n",
            " ization)                                                                                         \n",
            "                                                                                                  \n",
            " conv2_block3_2_relu (Activatio  (None, 56, 56, 64)  0           ['conv2_block3_2_bn[0][0]']      \n",
            " n)                                                                                               \n",
            "                                                                                                  \n",
            " conv2_block3_3_conv (Conv2D)   (None, 56, 56, 256)  16640       ['conv2_block3_2_relu[0][0]']    \n",
            "                                                                                                  \n",
            " conv2_block3_3_bn (BatchNormal  (None, 56, 56, 256)  1024       ['conv2_block3_3_conv[0][0]']    \n",
            " ization)                                                                                         \n",
            "                                                                                                  \n",
            " conv2_block3_add (Add)         (None, 56, 56, 256)  0           ['conv2_block2_out[0][0]',       \n",
            "                                                                  'conv2_block3_3_bn[0][0]']      \n",
            "                                                                                                  \n",
            " conv2_block3_out (Activation)  (None, 56, 56, 256)  0           ['conv2_block3_add[0][0]']       \n",
            "                                                                                                  \n",
            " conv3_block1_1_conv (Conv2D)   (None, 28, 28, 128)  32896       ['conv2_block3_out[0][0]']       \n",
            "                                                                                                  \n",
            " conv3_block1_1_bn (BatchNormal  (None, 28, 28, 128)  512        ['conv3_block1_1_conv[0][0]']    \n",
            " ization)                                                                                         \n",
            "                                                                                                  \n",
            " conv3_block1_1_relu (Activatio  (None, 28, 28, 128)  0          ['conv3_block1_1_bn[0][0]']      \n",
            " n)                                                                                               \n",
            "                                                                                                  \n",
            " conv3_block1_2_conv (Conv2D)   (None, 28, 28, 128)  147584      ['conv3_block1_1_relu[0][0]']    \n",
            "                                                                                                  \n",
            " conv3_block1_2_bn (BatchNormal  (None, 28, 28, 128)  512        ['conv3_block1_2_conv[0][0]']    \n",
            " ization)                                                                                         \n",
            "                                                                                                  \n",
            " conv3_block1_2_relu (Activatio  (None, 28, 28, 128)  0          ['conv3_block1_2_bn[0][0]']      \n",
            " n)                                                                                               \n",
            "                                                                                                  \n",
            " conv3_block1_0_conv (Conv2D)   (None, 28, 28, 512)  131584      ['conv2_block3_out[0][0]']       \n",
            "                                                                                                  \n",
            " conv3_block1_3_conv (Conv2D)   (None, 28, 28, 512)  66048       ['conv3_block1_2_relu[0][0]']    \n",
            "                                                                                                  \n",
            " conv3_block1_0_bn (BatchNormal  (None, 28, 28, 512)  2048       ['conv3_block1_0_conv[0][0]']    \n",
            " ization)                                                                                         \n",
            "                                                                                                  \n",
            " conv3_block1_3_bn (BatchNormal  (None, 28, 28, 512)  2048       ['conv3_block1_3_conv[0][0]']    \n",
            " ization)                                                                                         \n",
            "                                                                                                  \n",
            " conv3_block1_add (Add)         (None, 28, 28, 512)  0           ['conv3_block1_0_bn[0][0]',      \n",
            "                                                                  'conv3_block1_3_bn[0][0]']      \n",
            "                                                                                                  \n",
            " conv3_block1_out (Activation)  (None, 28, 28, 512)  0           ['conv3_block1_add[0][0]']       \n",
            "                                                                                                  \n",
            " conv3_block2_1_conv (Conv2D)   (None, 28, 28, 128)  65664       ['conv3_block1_out[0][0]']       \n",
            "                                                                                                  \n",
            " conv3_block2_1_bn (BatchNormal  (None, 28, 28, 128)  512        ['conv3_block2_1_conv[0][0]']    \n",
            " ization)                                                                                         \n",
            "                                                                                                  \n",
            " conv3_block2_1_relu (Activatio  (None, 28, 28, 128)  0          ['conv3_block2_1_bn[0][0]']      \n",
            " n)                                                                                               \n",
            "                                                                                                  \n",
            " conv3_block2_2_conv (Conv2D)   (None, 28, 28, 128)  147584      ['conv3_block2_1_relu[0][0]']    \n",
            "                                                                                                  \n",
            " conv3_block2_2_bn (BatchNormal  (None, 28, 28, 128)  512        ['conv3_block2_2_conv[0][0]']    \n",
            " ization)                                                                                         \n",
            "                                                                                                  \n",
            " conv3_block2_2_relu (Activatio  (None, 28, 28, 128)  0          ['conv3_block2_2_bn[0][0]']      \n",
            " n)                                                                                               \n",
            "                                                                                                  \n",
            " conv3_block2_3_conv (Conv2D)   (None, 28, 28, 512)  66048       ['conv3_block2_2_relu[0][0]']    \n",
            "                                                                                                  \n",
            " conv3_block2_3_bn (BatchNormal  (None, 28, 28, 512)  2048       ['conv3_block2_3_conv[0][0]']    \n",
            " ization)                                                                                         \n",
            "                                                                                                  \n",
            " conv3_block2_add (Add)         (None, 28, 28, 512)  0           ['conv3_block1_out[0][0]',       \n",
            "                                                                  'conv3_block2_3_bn[0][0]']      \n",
            "                                                                                                  \n",
            " conv3_block2_out (Activation)  (None, 28, 28, 512)  0           ['conv3_block2_add[0][0]']       \n",
            "                                                                                                  \n",
            " conv3_block3_1_conv (Conv2D)   (None, 28, 28, 128)  65664       ['conv3_block2_out[0][0]']       \n",
            "                                                                                                  \n",
            " conv3_block3_1_bn (BatchNormal  (None, 28, 28, 128)  512        ['conv3_block3_1_conv[0][0]']    \n",
            " ization)                                                                                         \n",
            "                                                                                                  \n",
            " conv3_block3_1_relu (Activatio  (None, 28, 28, 128)  0          ['conv3_block3_1_bn[0][0]']      \n",
            " n)                                                                                               \n",
            "                                                                                                  \n",
            " conv3_block3_2_conv (Conv2D)   (None, 28, 28, 128)  147584      ['conv3_block3_1_relu[0][0]']    \n",
            "                                                                                                  \n",
            " conv3_block3_2_bn (BatchNormal  (None, 28, 28, 128)  512        ['conv3_block3_2_conv[0][0]']    \n",
            " ization)                                                                                         \n",
            "                                                                                                  \n",
            " conv3_block3_2_relu (Activatio  (None, 28, 28, 128)  0          ['conv3_block3_2_bn[0][0]']      \n",
            " n)                                                                                               \n",
            "                                                                                                  \n",
            " conv3_block3_3_conv (Conv2D)   (None, 28, 28, 512)  66048       ['conv3_block3_2_relu[0][0]']    \n",
            "                                                                                                  \n",
            " conv3_block3_3_bn (BatchNormal  (None, 28, 28, 512)  2048       ['conv3_block3_3_conv[0][0]']    \n",
            " ization)                                                                                         \n",
            "                                                                                                  \n",
            " conv3_block3_add (Add)         (None, 28, 28, 512)  0           ['conv3_block2_out[0][0]',       \n",
            "                                                                  'conv3_block3_3_bn[0][0]']      \n",
            "                                                                                                  \n",
            " conv3_block3_out (Activation)  (None, 28, 28, 512)  0           ['conv3_block3_add[0][0]']       \n",
            "                                                                                                  \n",
            " conv3_block4_1_conv (Conv2D)   (None, 28, 28, 128)  65664       ['conv3_block3_out[0][0]']       \n",
            "                                                                                                  \n",
            " conv3_block4_1_bn (BatchNormal  (None, 28, 28, 128)  512        ['conv3_block4_1_conv[0][0]']    \n",
            " ization)                                                                                         \n",
            "                                                                                                  \n",
            " conv3_block4_1_relu (Activatio  (None, 28, 28, 128)  0          ['conv3_block4_1_bn[0][0]']      \n",
            " n)                                                                                               \n",
            "                                                                                                  \n",
            " conv3_block4_2_conv (Conv2D)   (None, 28, 28, 128)  147584      ['conv3_block4_1_relu[0][0]']    \n",
            "                                                                                                  \n",
            " conv3_block4_2_bn (BatchNormal  (None, 28, 28, 128)  512        ['conv3_block4_2_conv[0][0]']    \n",
            " ization)                                                                                         \n",
            "                                                                                                  \n",
            " conv3_block4_2_relu (Activatio  (None, 28, 28, 128)  0          ['conv3_block4_2_bn[0][0]']      \n",
            " n)                                                                                               \n",
            "                                                                                                  \n",
            " conv3_block4_3_conv (Conv2D)   (None, 28, 28, 512)  66048       ['conv3_block4_2_relu[0][0]']    \n",
            "                                                                                                  \n",
            " conv3_block4_3_bn (BatchNormal  (None, 28, 28, 512)  2048       ['conv3_block4_3_conv[0][0]']    \n",
            " ization)                                                                                         \n",
            "                                                                                                  \n",
            " conv3_block4_add (Add)         (None, 28, 28, 512)  0           ['conv3_block3_out[0][0]',       \n",
            "                                                                  'conv3_block4_3_bn[0][0]']      \n",
            "                                                                                                  \n",
            " conv3_block4_out (Activation)  (None, 28, 28, 512)  0           ['conv3_block4_add[0][0]']       \n",
            "                                                                                                  \n",
            " conv4_block1_1_conv (Conv2D)   (None, 14, 14, 256)  131328      ['conv3_block4_out[0][0]']       \n",
            "                                                                                                  \n",
            " conv4_block1_1_bn (BatchNormal  (None, 14, 14, 256)  1024       ['conv4_block1_1_conv[0][0]']    \n",
            " ization)                                                                                         \n",
            "                                                                                                  \n",
            " conv4_block1_1_relu (Activatio  (None, 14, 14, 256)  0          ['conv4_block1_1_bn[0][0]']      \n",
            " n)                                                                                               \n",
            "                                                                                                  \n",
            " conv4_block1_2_conv (Conv2D)   (None, 14, 14, 256)  590080      ['conv4_block1_1_relu[0][0]']    \n",
            "                                                                                                  \n",
            " conv4_block1_2_bn (BatchNormal  (None, 14, 14, 256)  1024       ['conv4_block1_2_conv[0][0]']    \n",
            " ization)                                                                                         \n",
            "                                                                                                  \n",
            " conv4_block1_2_relu (Activatio  (None, 14, 14, 256)  0          ['conv4_block1_2_bn[0][0]']      \n",
            " n)                                                                                               \n",
            "                                                                                                  \n",
            " conv4_block1_0_conv (Conv2D)   (None, 14, 14, 1024  525312      ['conv3_block4_out[0][0]']       \n",
            "                                )                                                                 \n",
            "                                                                                                  \n",
            " conv4_block1_3_conv (Conv2D)   (None, 14, 14, 1024  263168      ['conv4_block1_2_relu[0][0]']    \n",
            "                                )                                                                 \n",
            "                                                                                                  \n",
            " conv4_block1_0_bn (BatchNormal  (None, 14, 14, 1024  4096       ['conv4_block1_0_conv[0][0]']    \n",
            " ization)                       )                                                                 \n",
            "                                                                                                  \n",
            " conv4_block1_3_bn (BatchNormal  (None, 14, 14, 1024  4096       ['conv4_block1_3_conv[0][0]']    \n",
            " ization)                       )                                                                 \n",
            "                                                                                                  \n",
            " conv4_block1_add (Add)         (None, 14, 14, 1024  0           ['conv4_block1_0_bn[0][0]',      \n",
            "                                )                                 'conv4_block1_3_bn[0][0]']      \n",
            "                                                                                                  \n",
            " conv4_block1_out (Activation)  (None, 14, 14, 1024  0           ['conv4_block1_add[0][0]']       \n",
            "                                )                                                                 \n",
            "                                                                                                  \n",
            " conv4_block2_1_conv (Conv2D)   (None, 14, 14, 256)  262400      ['conv4_block1_out[0][0]']       \n",
            "                                                                                                  \n",
            " conv4_block2_1_bn (BatchNormal  (None, 14, 14, 256)  1024       ['conv4_block2_1_conv[0][0]']    \n",
            " ization)                                                                                         \n",
            "                                                                                                  \n",
            " conv4_block2_1_relu (Activatio  (None, 14, 14, 256)  0          ['conv4_block2_1_bn[0][0]']      \n",
            " n)                                                                                               \n",
            "                                                                                                  \n",
            " conv4_block2_2_conv (Conv2D)   (None, 14, 14, 256)  590080      ['conv4_block2_1_relu[0][0]']    \n",
            "                                                                                                  \n",
            " conv4_block2_2_bn (BatchNormal  (None, 14, 14, 256)  1024       ['conv4_block2_2_conv[0][0]']    \n",
            " ization)                                                                                         \n",
            "                                                                                                  \n",
            " conv4_block2_2_relu (Activatio  (None, 14, 14, 256)  0          ['conv4_block2_2_bn[0][0]']      \n",
            " n)                                                                                               \n",
            "                                                                                                  \n",
            " conv4_block2_3_conv (Conv2D)   (None, 14, 14, 1024  263168      ['conv4_block2_2_relu[0][0]']    \n",
            "                                )                                                                 \n",
            "                                                                                                  \n",
            " conv4_block2_3_bn (BatchNormal  (None, 14, 14, 1024  4096       ['conv4_block2_3_conv[0][0]']    \n",
            " ization)                       )                                                                 \n",
            "                                                                                                  \n",
            " conv4_block2_add (Add)         (None, 14, 14, 1024  0           ['conv4_block1_out[0][0]',       \n",
            "                                )                                 'conv4_block2_3_bn[0][0]']      \n",
            "                                                                                                  \n",
            " conv4_block2_out (Activation)  (None, 14, 14, 1024  0           ['conv4_block2_add[0][0]']       \n",
            "                                )                                                                 \n",
            "                                                                                                  \n",
            " conv4_block3_1_conv (Conv2D)   (None, 14, 14, 256)  262400      ['conv4_block2_out[0][0]']       \n",
            "                                                                                                  \n",
            " conv4_block3_1_bn (BatchNormal  (None, 14, 14, 256)  1024       ['conv4_block3_1_conv[0][0]']    \n",
            " ization)                                                                                         \n",
            "                                                                                                  \n",
            " conv4_block3_1_relu (Activatio  (None, 14, 14, 256)  0          ['conv4_block3_1_bn[0][0]']      \n",
            " n)                                                                                               \n",
            "                                                                                                  \n",
            " conv4_block3_2_conv (Conv2D)   (None, 14, 14, 256)  590080      ['conv4_block3_1_relu[0][0]']    \n",
            "                                                                                                  \n",
            " conv4_block3_2_bn (BatchNormal  (None, 14, 14, 256)  1024       ['conv4_block3_2_conv[0][0]']    \n",
            " ization)                                                                                         \n",
            "                                                                                                  \n",
            " conv4_block3_2_relu (Activatio  (None, 14, 14, 256)  0          ['conv4_block3_2_bn[0][0]']      \n",
            " n)                                                                                               \n",
            "                                                                                                  \n",
            " conv4_block3_3_conv (Conv2D)   (None, 14, 14, 1024  263168      ['conv4_block3_2_relu[0][0]']    \n",
            "                                )                                                                 \n",
            "                                                                                                  \n",
            " conv4_block3_3_bn (BatchNormal  (None, 14, 14, 1024  4096       ['conv4_block3_3_conv[0][0]']    \n",
            " ization)                       )                                                                 \n",
            "                                                                                                  \n",
            " conv4_block3_add (Add)         (None, 14, 14, 1024  0           ['conv4_block2_out[0][0]',       \n",
            "                                )                                 'conv4_block3_3_bn[0][0]']      \n",
            "                                                                                                  \n",
            " conv4_block3_out (Activation)  (None, 14, 14, 1024  0           ['conv4_block3_add[0][0]']       \n",
            "                                )                                                                 \n",
            "                                                                                                  \n",
            " conv4_block4_1_conv (Conv2D)   (None, 14, 14, 256)  262400      ['conv4_block3_out[0][0]']       \n",
            "                                                                                                  \n",
            " conv4_block4_1_bn (BatchNormal  (None, 14, 14, 256)  1024       ['conv4_block4_1_conv[0][0]']    \n",
            " ization)                                                                                         \n",
            "                                                                                                  \n",
            " conv4_block4_1_relu (Activatio  (None, 14, 14, 256)  0          ['conv4_block4_1_bn[0][0]']      \n",
            " n)                                                                                               \n",
            "                                                                                                  \n",
            " conv4_block4_2_conv (Conv2D)   (None, 14, 14, 256)  590080      ['conv4_block4_1_relu[0][0]']    \n",
            "                                                                                                  \n",
            " conv4_block4_2_bn (BatchNormal  (None, 14, 14, 256)  1024       ['conv4_block4_2_conv[0][0]']    \n",
            " ization)                                                                                         \n",
            "                                                                                                  \n",
            " conv4_block4_2_relu (Activatio  (None, 14, 14, 256)  0          ['conv4_block4_2_bn[0][0]']      \n",
            " n)                                                                                               \n",
            "                                                                                                  \n",
            " conv4_block4_3_conv (Conv2D)   (None, 14, 14, 1024  263168      ['conv4_block4_2_relu[0][0]']    \n",
            "                                )                                                                 \n",
            "                                                                                                  \n",
            " conv4_block4_3_bn (BatchNormal  (None, 14, 14, 1024  4096       ['conv4_block4_3_conv[0][0]']    \n",
            " ization)                       )                                                                 \n",
            "                                                                                                  \n",
            " conv4_block4_add (Add)         (None, 14, 14, 1024  0           ['conv4_block3_out[0][0]',       \n",
            "                                )                                 'conv4_block4_3_bn[0][0]']      \n",
            "                                                                                                  \n",
            " conv4_block4_out (Activation)  (None, 14, 14, 1024  0           ['conv4_block4_add[0][0]']       \n",
            "                                )                                                                 \n",
            "                                                                                                  \n",
            " conv4_block5_1_conv (Conv2D)   (None, 14, 14, 256)  262400      ['conv4_block4_out[0][0]']       \n",
            "                                                                                                  \n",
            " conv4_block5_1_bn (BatchNormal  (None, 14, 14, 256)  1024       ['conv4_block5_1_conv[0][0]']    \n",
            " ization)                                                                                         \n",
            "                                                                                                  \n",
            " conv4_block5_1_relu (Activatio  (None, 14, 14, 256)  0          ['conv4_block5_1_bn[0][0]']      \n",
            " n)                                                                                               \n",
            "                                                                                                  \n",
            " conv4_block5_2_conv (Conv2D)   (None, 14, 14, 256)  590080      ['conv4_block5_1_relu[0][0]']    \n",
            "                                                                                                  \n",
            " conv4_block5_2_bn (BatchNormal  (None, 14, 14, 256)  1024       ['conv4_block5_2_conv[0][0]']    \n",
            " ization)                                                                                         \n",
            "                                                                                                  \n",
            " conv4_block5_2_relu (Activatio  (None, 14, 14, 256)  0          ['conv4_block5_2_bn[0][0]']      \n",
            " n)                                                                                               \n",
            "                                                                                                  \n",
            " conv4_block5_3_conv (Conv2D)   (None, 14, 14, 1024  263168      ['conv4_block5_2_relu[0][0]']    \n",
            "                                )                                                                 \n",
            "                                                                                                  \n",
            " conv4_block5_3_bn (BatchNormal  (None, 14, 14, 1024  4096       ['conv4_block5_3_conv[0][0]']    \n",
            " ization)                       )                                                                 \n",
            "                                                                                                  \n",
            " conv4_block5_add (Add)         (None, 14, 14, 1024  0           ['conv4_block4_out[0][0]',       \n",
            "                                )                                 'conv4_block5_3_bn[0][0]']      \n",
            "                                                                                                  \n",
            " conv4_block5_out (Activation)  (None, 14, 14, 1024  0           ['conv4_block5_add[0][0]']       \n",
            "                                )                                                                 \n",
            "                                                                                                  \n",
            " conv4_block6_1_conv (Conv2D)   (None, 14, 14, 256)  262400      ['conv4_block5_out[0][0]']       \n",
            "                                                                                                  \n",
            " conv4_block6_1_bn (BatchNormal  (None, 14, 14, 256)  1024       ['conv4_block6_1_conv[0][0]']    \n",
            " ization)                                                                                         \n",
            "                                                                                                  \n",
            " conv4_block6_1_relu (Activatio  (None, 14, 14, 256)  0          ['conv4_block6_1_bn[0][0]']      \n",
            " n)                                                                                               \n",
            "                                                                                                  \n",
            " conv4_block6_2_conv (Conv2D)   (None, 14, 14, 256)  590080      ['conv4_block6_1_relu[0][0]']    \n",
            "                                                                                                  \n",
            " conv4_block6_2_bn (BatchNormal  (None, 14, 14, 256)  1024       ['conv4_block6_2_conv[0][0]']    \n",
            " ization)                                                                                         \n",
            "                                                                                                  \n",
            " conv4_block6_2_relu (Activatio  (None, 14, 14, 256)  0          ['conv4_block6_2_bn[0][0]']      \n",
            " n)                                                                                               \n",
            "                                                                                                  \n",
            " conv4_block6_3_conv (Conv2D)   (None, 14, 14, 1024  263168      ['conv4_block6_2_relu[0][0]']    \n",
            "                                )                                                                 \n",
            "                                                                                                  \n",
            " conv4_block6_3_bn (BatchNormal  (None, 14, 14, 1024  4096       ['conv4_block6_3_conv[0][0]']    \n",
            " ization)                       )                                                                 \n",
            "                                                                                                  \n",
            " conv4_block6_add (Add)         (None, 14, 14, 1024  0           ['conv4_block5_out[0][0]',       \n",
            "                                )                                 'conv4_block6_3_bn[0][0]']      \n",
            "                                                                                                  \n",
            " conv4_block6_out (Activation)  (None, 14, 14, 1024  0           ['conv4_block6_add[0][0]']       \n",
            "                                )                                                                 \n",
            "                                                                                                  \n",
            " conv5_block1_1_conv (Conv2D)   (None, 7, 7, 512)    524800      ['conv4_block6_out[0][0]']       \n",
            "                                                                                                  \n",
            " conv5_block1_1_bn (BatchNormal  (None, 7, 7, 512)   2048        ['conv5_block1_1_conv[0][0]']    \n",
            " ization)                                                                                         \n",
            "                                                                                                  \n",
            " conv5_block1_1_relu (Activatio  (None, 7, 7, 512)   0           ['conv5_block1_1_bn[0][0]']      \n",
            " n)                                                                                               \n",
            "                                                                                                  \n",
            " conv5_block1_2_conv (Conv2D)   (None, 7, 7, 512)    2359808     ['conv5_block1_1_relu[0][0]']    \n",
            "                                                                                                  \n",
            " conv5_block1_2_bn (BatchNormal  (None, 7, 7, 512)   2048        ['conv5_block1_2_conv[0][0]']    \n",
            " ization)                                                                                         \n",
            "                                                                                                  \n",
            " conv5_block1_2_relu (Activatio  (None, 7, 7, 512)   0           ['conv5_block1_2_bn[0][0]']      \n",
            " n)                                                                                               \n",
            "                                                                                                  \n",
            " conv5_block1_0_conv (Conv2D)   (None, 7, 7, 2048)   2099200     ['conv4_block6_out[0][0]']       \n",
            "                                                                                                  \n",
            " conv5_block1_3_conv (Conv2D)   (None, 7, 7, 2048)   1050624     ['conv5_block1_2_relu[0][0]']    \n",
            "                                                                                                  \n",
            " conv5_block1_0_bn (BatchNormal  (None, 7, 7, 2048)  8192        ['conv5_block1_0_conv[0][0]']    \n",
            " ization)                                                                                         \n",
            "                                                                                                  \n",
            " conv5_block1_3_bn (BatchNormal  (None, 7, 7, 2048)  8192        ['conv5_block1_3_conv[0][0]']    \n",
            " ization)                                                                                         \n",
            "                                                                                                  \n",
            " conv5_block1_add (Add)         (None, 7, 7, 2048)   0           ['conv5_block1_0_bn[0][0]',      \n",
            "                                                                  'conv5_block1_3_bn[0][0]']      \n",
            "                                                                                                  \n",
            " conv5_block1_out (Activation)  (None, 7, 7, 2048)   0           ['conv5_block1_add[0][0]']       \n",
            "                                                                                                  \n",
            " conv5_block2_1_conv (Conv2D)   (None, 7, 7, 512)    1049088     ['conv5_block1_out[0][0]']       \n",
            "                                                                                                  \n",
            " conv5_block2_1_bn (BatchNormal  (None, 7, 7, 512)   2048        ['conv5_block2_1_conv[0][0]']    \n",
            " ization)                                                                                         \n",
            "                                                                                                  \n",
            " conv5_block2_1_relu (Activatio  (None, 7, 7, 512)   0           ['conv5_block2_1_bn[0][0]']      \n",
            " n)                                                                                               \n",
            "                                                                                                  \n",
            " conv5_block2_2_conv (Conv2D)   (None, 7, 7, 512)    2359808     ['conv5_block2_1_relu[0][0]']    \n",
            "                                                                                                  \n",
            " conv5_block2_2_bn (BatchNormal  (None, 7, 7, 512)   2048        ['conv5_block2_2_conv[0][0]']    \n",
            " ization)                                                                                         \n",
            "                                                                                                  \n",
            " conv5_block2_2_relu (Activatio  (None, 7, 7, 512)   0           ['conv5_block2_2_bn[0][0]']      \n",
            " n)                                                                                               \n",
            "                                                                                                  \n",
            " conv5_block2_3_conv (Conv2D)   (None, 7, 7, 2048)   1050624     ['conv5_block2_2_relu[0][0]']    \n",
            "                                                                                                  \n",
            " conv5_block2_3_bn (BatchNormal  (None, 7, 7, 2048)  8192        ['conv5_block2_3_conv[0][0]']    \n",
            " ization)                                                                                         \n",
            "                                                                                                  \n",
            " conv5_block2_add (Add)         (None, 7, 7, 2048)   0           ['conv5_block1_out[0][0]',       \n",
            "                                                                  'conv5_block2_3_bn[0][0]']      \n",
            "                                                                                                  \n",
            " conv5_block2_out (Activation)  (None, 7, 7, 2048)   0           ['conv5_block2_add[0][0]']       \n",
            "                                                                                                  \n",
            " conv5_block3_1_conv (Conv2D)   (None, 7, 7, 512)    1049088     ['conv5_block2_out[0][0]']       \n",
            "                                                                                                  \n",
            " conv5_block3_1_bn (BatchNormal  (None, 7, 7, 512)   2048        ['conv5_block3_1_conv[0][0]']    \n",
            " ization)                                                                                         \n",
            "                                                                                                  \n",
            " conv5_block3_1_relu (Activatio  (None, 7, 7, 512)   0           ['conv5_block3_1_bn[0][0]']      \n",
            " n)                                                                                               \n",
            "                                                                                                  \n",
            " conv5_block3_2_conv (Conv2D)   (None, 7, 7, 512)    2359808     ['conv5_block3_1_relu[0][0]']    \n",
            "                                                                                                  \n",
            " conv5_block3_2_bn (BatchNormal  (None, 7, 7, 512)   2048        ['conv5_block3_2_conv[0][0]']    \n",
            " ization)                                                                                         \n",
            "                                                                                                  \n",
            " conv5_block3_2_relu (Activatio  (None, 7, 7, 512)   0           ['conv5_block3_2_bn[0][0]']      \n",
            " n)                                                                                               \n",
            "                                                                                                  \n",
            " conv5_block3_3_conv (Conv2D)   (None, 7, 7, 2048)   1050624     ['conv5_block3_2_relu[0][0]']    \n",
            "                                                                                                  \n",
            " conv5_block3_3_bn (BatchNormal  (None, 7, 7, 2048)  8192        ['conv5_block3_3_conv[0][0]']    \n",
            " ization)                                                                                         \n",
            "                                                                                                  \n",
            " conv5_block3_add (Add)         (None, 7, 7, 2048)   0           ['conv5_block2_out[0][0]',       \n",
            "                                                                  'conv5_block3_3_bn[0][0]']      \n",
            "                                                                                                  \n",
            " conv5_block3_out (Activation)  (None, 7, 7, 2048)   0           ['conv5_block3_add[0][0]']       \n",
            "                                                                                                  \n",
            " avg_pool (GlobalAveragePooling  (None, 2048)        0           ['conv5_block3_out[0][0]']       \n",
            " 2D)                                                                                              \n",
            "                                                                                                  \n",
            " predictions (Dense)            (None, 1000)         2049000     ['avg_pool[0][0]']               \n",
            "                                                                                                  \n",
            "==================================================================================================\n",
            "Total params: 25,636,712\n",
            "Trainable params: 25,583,592\n",
            "Non-trainable params: 53,120\n",
            "__________________________________________________________________________________________________\n",
            "None\n"
          ]
        }
      ]
    },
    {
      "cell_type": "code",
      "source": [
        "avg_pool = resnet.get_layer('avg_pool').output\n",
        "model = keras.Model(resnet.input, avg_pool)"
      ],
      "metadata": {
        "id": "nQB7LFSPfFOx"
      },
      "execution_count": null,
      "outputs": []
    },
    {
      "cell_type": "code",
      "source": [
        "def extract_features_nn(image):\n",
        "    if len(image.shape) == 2:\n",
        "        return extract_features_nn(gray2rgb(image))\n",
        "    else:\n",
        "        # Resize image to Resnet50's input (224x224)\n",
        "        image = cv2.resize(image, (224, 224))\n",
        "        return model(image[None, :, :, :]) # Add batch dimension\n",
        "\n",
        "descriptors_nn = np.array([extract_features_nn(image) for image in x_train]).squeeze()"
      ],
      "metadata": {
        "id": "3vawdL71fIBT"
      },
      "execution_count": null,
      "outputs": []
    },
    {
      "cell_type": "markdown",
      "metadata": {
        "id": "HFN1GjP-7IJ4"
      },
      "source": [
        "*   What is the size of the feature descriptors?"
      ]
    },
    {
      "cell_type": "code",
      "metadata": {
        "id": "GCbFj-8fieht",
        "colab": {
          "base_uri": "https://localhost:8080/"
        },
        "outputId": "bb01b7ec-dde6-4747-a65a-9ffd7138c032"
      },
      "source": [
        "# solution\n",
        "descriptors_nn.shape"
      ],
      "execution_count": null,
      "outputs": [
        {
          "output_type": "execute_result",
          "data": {
            "text/plain": [
              "(219, 2048)"
            ]
          },
          "metadata": {},
          "execution_count": 33
        }
      ]
    },
    {
      "cell_type": "markdown",
      "metadata": {
        "id": "GkEprqtK87q2"
      },
      "source": [
        "*   Create codebook using the extracted features **(we don't use codebook according to professor's instructions)**"
      ]
    },
    {
      "cell_type": "code",
      "source": [
        "# We don't do it as the professor told us not to use a codebook"
      ],
      "metadata": {
        "id": "AKamPF5NfPXO"
      },
      "execution_count": null,
      "outputs": []
    },
    {
      "cell_type": "markdown",
      "metadata": {
        "id": "K_RB2vPl9CzB"
      },
      "source": [
        "*   Train SVM classifier using the codebook"
      ]
    },
    {
      "cell_type": "code",
      "metadata": {
        "id": "5oKk_Wzz9HLf",
        "colab": {
          "base_uri": "https://localhost:8080/"
        },
        "outputId": "0d62da44-ca3a-4241-9cc9-7e79a76e4dd0"
      },
      "source": [
        "# solution\n",
        "clf = train_svc(descriptors_nn, y_train)"
      ],
      "execution_count": null,
      "outputs": [
        {
          "output_type": "stream",
          "name": "stdout",
          "text": [
            "Optimal params: {'C': 1, 'gamma': 'auto', 'kernel': 'linear'}\n",
            "10-fold Cross-Validation Accuracy: 1.0\n"
          ]
        }
      ]
    },
    {
      "cell_type": "markdown",
      "metadata": {
        "id": "ym0XesGL9Hrc"
      },
      "source": [
        "*   Evaluate the test set using the above method"
      ]
    },
    {
      "cell_type": "code",
      "metadata": {
        "id": "NM6LIynq9Ma1"
      },
      "source": [
        "# solution\n",
        "descriptors_test_nn = np.array([extract_features_nn(x_test[i]) for i in range(len(x_test))]).squeeze()\n",
        "predictions_test = clf.predict(descriptors_test_nn)"
      ],
      "execution_count": null,
      "outputs": []
    },
    {
      "cell_type": "markdown",
      "metadata": {
        "id": "d-OnKf-ti_vy"
      },
      "source": [
        "*   Calculate the accuracy score and confusion matrix for the classification model"
      ]
    },
    {
      "cell_type": "code",
      "metadata": {
        "id": "upqdRQUoGC94",
        "colab": {
          "base_uri": "https://localhost:8080/"
        },
        "outputId": "83df3af8-fe18-4024-b0a0-ec64920a4032"
      },
      "source": [
        "# solution\n",
        "print(\"Test Accuracy: \", np.mean(y_test == predictions_test))\n",
        "\n",
        "cm = pd.DataFrame(confusion_matrix(y_test, predictions_test), index=categories, columns=categories)\n",
        "print(cm)\n"
      ],
      "execution_count": null,
      "outputs": [
        {
          "output_type": "stream",
          "name": "stdout",
          "text": [
            "Test Accuracy:  1.0\n",
            "           butterfly  dalmatian  kangaroo\n",
            "butterfly          9          0         0\n",
            "dalmatian          0          7         0\n",
            "kangaroo           0          0         9\n"
          ]
        }
      ]
    },
    {
      "cell_type": "markdown",
      "metadata": {
        "id": "eafGx0Hv9M6p"
      },
      "source": [
        "*   Compare the performance of both the BoVW models. Which model works better and why?"
      ]
    },
    {
      "cell_type": "markdown",
      "metadata": {
        "id": "U9SOuiKwiXkr"
      },
      "source": [
        "**Solution**\n",
        "\n",
        "As we can see (accuracy and confusion matrix), the neural network performs much better than the ORB-based solution. Indeed, the SVC trained with the features of the CNN gets a 100% accuracy, meaning that it classifies correctly all the images in the test set.\n",
        "\n",
        "Better performance of CNN was to be expected, as solutions based on this technology have become SOTA for most computer vision problems in the last few years. This superior ability can be explained by different factors. On the one hand, being the CNN completely trained, it depends less on handcrafted rules and human expertise, so it is more adaptable and capable to find the really interesting features from an image. On the other hand, in this case, the final feature vector used for the classification is greater than in the case of the ORB-based solution. Therefore, the CNN vector has more expressivity. However, as we will see in the last exercise, 2 dimensions are enough to \"separate\" the three classes."
      ]
    },
    {
      "cell_type": "markdown",
      "metadata": {
        "id": "8BuiFGxPjDb1"
      },
      "source": [
        "*   Can the performance of pre-trained model increased further? If so, how?"
      ]
    },
    {
      "cell_type": "markdown",
      "metadata": {
        "id": "0kuJnOb9jE9r"
      },
      "source": [
        "**Solution**\n",
        "\n",
        "Given that we are getting 100% accuracy, evaluating improvements of the model would be nearly impossible with the same dataset. If we had a big enough test set, such comparison would be enabled.\n",
        "\n",
        "In a situation like that, if the performance of the model was not good enough, we could explore different alternatives:\n",
        "- Avoiding the usage of SVM as a classifier and replacing the final layers of the network with a classifier MLP with 3 output nodes (because we have three classes). Then we could finetune those last layers to adapt them to predict the new classes based on the already found features (previous layers, which would be \"frozen\").\n",
        "- It could also be possible to allow other layers to be updated during the new training process.\n",
        "- We could increase (artificially) the size of our training set by using different data augmentation techniques, such as rotations, cropping, padding...\n",
        "\n",
        "There are a lot of possibilities. However, the best one would depend on the particular situation, but it is not our case."
      ]
    },
    {
      "cell_type": "markdown",
      "metadata": {
        "id": "jQlPanaIIMKV"
      },
      "source": [
        "*   What happens if the test image does not belong to any of the trained classes?"
      ]
    },
    {
      "cell_type": "markdown",
      "metadata": {
        "id": "5UEnEFDdISFJ"
      },
      "source": [
        "**Solution**\n",
        "\n",
        "In the case that the image does not belong to any of the considered classes, the classifier won't be able to detect it. This classifier has been only trained to choose one of the three options, so it will pick an answer from those classes even if the image is from a completely different object."
      ]
    },
    {
      "cell_type": "markdown",
      "metadata": {
        "id": "Z-sxoswiJGTQ"
      },
      "source": [
        "*   Combine the features extracted using ORB and Deep Neural Network.\n",
        "*   Create a codebook with the combined features\n",
        "*   Train a SVM classifier using the generated codebook and evaluate the performance using accuracy and confusion matrix."
      ]
    },
    {
      "cell_type": "code",
      "metadata": {
        "id": "u5Xgv3caJf6X",
        "colab": {
          "base_uri": "https://localhost:8080/"
        },
        "outputId": "6778eada-472a-4bcc-bdc5-a6aa4ac48c2b"
      },
      "source": [
        "# solution\n",
        "descriptors = np.hstack([train_histograms, descriptors_nn])\n",
        "descriptors_test = np.hstack([test_histograms, descriptors_test_nn])\n",
        "\n",
        "# We assume that here, as we have 1 single vector for every image (like with the ResNet) a new codebook should not be used\n",
        "clf = train_svc(descriptors, y_train)\n",
        "predictions_test = clf.predict(descriptors_test)\n",
        "\n",
        "print(\"Test Accuracy: \", np.mean(y_test == predictions_test))\n",
        "\n",
        "cm = pd.DataFrame(confusion_matrix(y_test, predictions_test), index=categories, columns=categories)\n",
        "print(cm)"
      ],
      "execution_count": null,
      "outputs": [
        {
          "output_type": "stream",
          "name": "stdout",
          "text": [
            "Optimal params: {'C': 1, 'gamma': 'auto', 'kernel': 'linear'}\n",
            "10-fold Cross-Validation Accuracy: 1.0\n",
            "Test Accuracy:  1.0\n",
            "           butterfly  dalmatian  kangaroo\n",
            "butterfly          9          0         0\n",
            "dalmatian          0          7         0\n",
            "kangaroo           0          0         9\n"
          ]
        }
      ]
    },
    {
      "cell_type": "markdown",
      "metadata": {
        "id": "i2iBPUZTJhju"
      },
      "source": [
        "*   Do the combined features increase the performance of the classifier?"
      ]
    },
    {
      "cell_type": "markdown",
      "metadata": {
        "id": "ZYG_4SReJg2A"
      },
      "source": [
        "**Solution**\n",
        "\n",
        "According to the professor's instructions, we are concatenating the histogram computed from the ORB's output and the output of the average pooling layer of the ResNet. Thus, we obtain a single one-dimension vector per image, and we train an SVC to classify the images from that combined vector.\n",
        "\n",
        "As we can see, the performance of this combined model is the same as the approach based only on ResNet. That is, it makes no mistakes in the test set. However, given that the previous model (only CNN) was simpler, we think that with the information we have it is better to use it (Occam's razor)."
      ]
    },
    {
      "cell_type": "markdown",
      "metadata": {
        "id": "DjL0oQCumkrV"
      },
      "source": [
        "## t-distributed Stochastic Neighbor Embedding (Optional).\n",
        "\n",
        "In order to visualize the features of a higher dimension data, t-SNE is used. t-SNE converts the affinities of the data points to probabilities. It recreates the probability distribution in a low-dimensional space. It is very helpful in visualizing features of different layers in a neural network.\n",
        "\n",
        "You can find more information about t-SNE [here](https://scikit-learn.org/stable/modules/manifold.html#t-distributed-stochastic-neighbor-embedding-t-sne)"
      ]
    },
    {
      "cell_type": "code",
      "metadata": {
        "id": "6ahIG1fulhW9",
        "colab": {
          "base_uri": "https://localhost:8080/",
          "height": 676
        },
        "outputId": "1b9b0b86-8409-4012-cd50-c5045229bb59"
      },
      "source": [
        "from sklearn.manifold import TSNE\n",
        "from sklearn import preprocessing\n",
        "\n",
        "le = preprocessing.LabelEncoder()\n",
        "le.fit(y_train)\n",
        "\n",
        "model = TSNE(n_components=2, random_state=0)\n",
        "\n",
        "np.set_printoptions(suppress=True)\n",
        "\n",
        "low_embedding = model.fit_transform(descriptors_nn) \n",
        "\n",
        "plt.figure(figsize=(20,10))\n",
        "plt.scatter(low_embedding[:, 0], low_embedding[:, 1], c=le.transform(y_train))\n",
        "plt.title(\"TSNE visualization\")\n",
        "plt.show()"
      ],
      "execution_count": null,
      "outputs": [
        {
          "output_type": "stream",
          "name": "stderr",
          "text": [
            "/usr/local/lib/python3.7/dist-packages/sklearn/manifold/_t_sne.py:783: FutureWarning: The default initialization in TSNE will change from 'random' to 'pca' in 1.2.\n",
            "  FutureWarning,\n",
            "/usr/local/lib/python3.7/dist-packages/sklearn/manifold/_t_sne.py:793: FutureWarning: The default learning rate in TSNE will change from 200.0 to 'auto' in 1.2.\n",
            "  FutureWarning,\n"
          ]
        },
        {
          "output_type": "display_data",
          "data": {
            "image/png": "[encoded data removed]",
            "text/plain": [
              "<Figure size 1440x720 with 1 Axes>"
            ]
          },
          "metadata": {
            "needs_background": "light"
          }
        }
      ]
    },
    {
      "cell_type": "markdown",
      "metadata": {
        "id": "3_HR5GjFpjik"
      },
      "source": [
        "*   What do you infer from the t-SNE plot?"
      ]
    },
    {
      "cell_type": "markdown",
      "metadata": {
        "id": "ueY9rvGBrVIc"
      },
      "source": [
        "**Solution**\n",
        "\n",
        "Please note that we have decided to use the feature vectors created by the CNN as input for the t-SNE algorithm as they achieve perfect accuracy in the test set.\n",
        "\n",
        "In the plot, we can see that the instances belonging to the same class occupy the same area in the low dimensional space. Indeed, there are three well-defined clusters.\n",
        "\n",
        "From that fact, we can infer that in the higher dimensional space there is a similar pattern, that is, points of the same class are close to each other but far from points of the other two classes. That makes sense, as we have seen that it is possible to find a classifier that properly separates those classes."
      ]
    },
    {
      "cell_type": "markdown",
      "metadata": {
        "id": "NnN_t5Me7N5O"
      },
      "source": [
        "\n",
        "---\n",
        "\n",
        "## **End of P4_2: Image Classification using Bag of Visual Words**\n",
        "Deadline for P4_2 submission in CampusVirtual is: **Monday, the 6th of December, 2021**"
      ]
    }
  ]
}