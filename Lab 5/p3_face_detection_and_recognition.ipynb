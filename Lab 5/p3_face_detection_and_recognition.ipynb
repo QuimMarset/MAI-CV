{
  "nbformat": 4,
  "nbformat_minor": 0,
  "metadata": {
    "colab": {
      "name": "Final_p3_face_detection_and_recognition.ipynb",
      "provenance": [],
      "collapsed_sections": [],
      "toc_visible": true
    },
    "kernelspec": {
      "display_name": "Python 3 (ipykernel)",
      "language": "python",
      "name": "python3"
    },
    "language_info": {
      "codemirror_mode": {
        "name": "ipython",
        "version": 3
      },
      "file_extension": ".py",
      "mimetype": "text/x-python",
      "name": "python",
      "nbconvert_exporter": "python",
      "pygments_lexer": "ipython3",
      "version": "3.7.11"
    }
  },
  "cells": [
    {
      "cell_type": "markdown",
      "metadata": {
        "id": "WzM1eJDG-JUY"
      },
      "source": [
        "# Laboratory #3 : Face detection and recognition\n",
        "\n",
        "At the end of this laboratory, you would get familiarized with\n",
        "\n",
        "*   Face detection\n",
        "    *   Integral images\n",
        "    *   Haar-like feature computation\n",
        "    *   Adaboost \n",
        "*   Face recognition\n",
        "    *   Eigen Faces\n",
        "    *   PCA and LDA\n",
        "\n",
        "**Remember this is a graded exercise.**\n",
        "\n",
        "*   For every plot, make sure you provide appropriate titles, axis labels, legends, wherever applicable.\n",
        "*   Create reusable functions where ever possible, so that the code could be reused at different places.\n",
        "*   Mount your drive to access the images.\n",
        "*   Add sufficient comments and explanations wherever necessary.\n",
        "\n",
        "---"
      ]
    },
    {
      "cell_type": "markdown",
      "metadata": {
        "id": "gNUrFEADR4Ea"
      },
      "source": [
        "**Authors**\n",
        "- Joaquim Marset Alsina\n",
        "- Jesús Molina Rodríguez de Vera"
      ]
    },
    {
      "cell_type": "code",
      "metadata": {
        "id": "jJIC9t_DV7js"
      },
      "source": [
        "# mount drive to the notebook\n",
        "\n",
        "from google.colab import drive\n",
        "drive.mount('/content/drive')"
      ],
      "execution_count": null,
      "outputs": []
    },
    {
      "cell_type": "markdown",
      "metadata": {
        "id": "c7dwXBH83V1W"
      },
      "source": [
        "# Face Detection using AdaBoost"
      ]
    },
    {
      "cell_type": "code",
      "metadata": {
        "id": "mozS11CSt4sz"
      },
      "source": [
        "# Loading necessary libraries (Feel free to add new libraries if you need for any computation)\n",
        "\n",
        "import numpy as np\n",
        "from skimage import data, io, img_as_float\n",
        "import os\n",
        "import matplotlib\n",
        "from PIL import Image\n",
        "from multiprocessing import Pool\n",
        "from functools import partial\n",
        "import time\n",
        "import timeit\n",
        "from matplotlib import pyplot as plt\n",
        "import pandas as pd\n",
        "import seaborn as sns"
      ],
      "execution_count": null,
      "outputs": []
    },
    {
      "cell_type": "markdown",
      "metadata": {
        "id": "xcu2FUj856xz"
      },
      "source": [
        "### Exercise #1\n",
        "\n",
        "*   Build a function compute_integral_image that computes the integral image of an input (2D) array. In an integral image each pixel is the sum of all pixels in the original image that are 'left and above' the pixel. See the following example:\n",
        "\n",
        "```\n",
        "Original    Integral\n",
        "+--------   +------------\n",
        "| 1 2 3 .   | 0  0  0  0 .\n",
        "| 4 5 6 .   | 0  1  3  6 .\n",
        "| . . . .   | 0  5 12 21 .\n",
        "            | . . . . . .\n",
        "```\n",
        "\n",
        "*   The integral image must have an additional row and column full of zeros (first row and first column).\n",
        "*   Plot the output of the integral image for the following array:\n",
        "\n",
        "```\n",
        "img_array = np.array([[1,2,2,2,1],[1,2,2,2,1],[1,2,2,2,1],[1,2,2,2,1]])\n",
        "```"
      ]
    },
    {
      "cell_type": "code",
      "metadata": {
        "id": "-bAnhO5i3zs5"
      },
      "source": [
        "def compute_integral_image(img_arr):\n",
        "    \"\"\"\n",
        "    Calculates the integral image based on the original image data.\n",
        "    :param img_arr: Image source data\n",
        "    :type img_arr: numpy.ndarray\n",
        "    :return Integral image for given image\n",
        "    :rtype: numpy.ndarray\n",
        "    \"\"\"\n",
        "    # an index of -1 refers to the last row/column\n",
        "    # since row_sum is calculated starting from (0,0),\n",
        "    # rowSum(x, -1) == 0 holds for all x\n",
        "    row_sum = np.zeros(img_arr.shape)\n",
        "    # we need an additional column and row\n",
        "    integral_image_arr = np.zeros((img_arr.shape[0] + 1, img_arr.shape[1] + 1))\n",
        "\n",
        "    # Add code here    \n",
        "    integral_image_arr[1:,1:] = np.cumsum(np.cumsum(img_arr, axis=1), axis=0)\n",
        "    \n",
        "\n",
        "\n",
        "    return integral_image_arr"
      ],
      "execution_count": null,
      "outputs": []
    },
    {
      "cell_type": "code",
      "metadata": {
        "id": "dTAqVHSp-OMf",
        "outputId": "ceca2a77-bc68-4cf6-b576-e9b355db8fdb"
      },
      "source": [
        "img_array = np.array([[1, 2, 2, 2, 1], [1, 2, 2, 2, 1], [1, 2, 2, 2, 1], [1, 2, 2, 2, 1]])\n",
        "plt.imshow(img_array, cmap=\"gray\", vmin=0, vmax= 5)\n",
        "plt.title(\"Array image\")\n",
        "plt.show()"
      ],
      "execution_count": null,
      "outputs": [
        {
          "data": {
            "image/png": "[encoded data removed]",
            "text/plain": [
              "<Figure size 432x288 with 1 Axes>"
            ]
          },
          "metadata": {
            "needs_background": "light"
          },
          "output_type": "display_data"
        }
      ]
    },
    {
      "cell_type": "code",
      "metadata": {
        "id": "d-PJakhX9W6Z",
        "outputId": "26e0cd86-aa31-4c8c-80e3-aefa3c1996c4"
      },
      "source": [
        "ii_img_array = compute_integral_image(img_array)\n",
        "print(ii_img_array)"
      ],
      "execution_count": null,
      "outputs": [
        {
          "name": "stdout",
          "output_type": "stream",
          "text": [
            "[[ 0.  0.  0.  0.  0.  0.]\n",
            " [ 0.  1.  3.  5.  7.  8.]\n",
            " [ 0.  2.  6. 10. 14. 16.]\n",
            " [ 0.  3.  9. 15. 21. 24.]\n",
            " [ 0.  4. 12. 20. 28. 32.]]\n"
          ]
        }
      ]
    },
    {
      "cell_type": "markdown",
      "metadata": {
        "id": "zy6EhVNxusBd"
      },
      "source": [
        "*   Test the function using 'camera' image from the data module. Plot the original image and the integral image."
      ]
    },
    {
      "cell_type": "code",
      "metadata": {
        "id": "AVjtmJ-Wu09i",
        "outputId": "3f849195-275c-4786-c641-cac5be4ff3f8"
      },
      "source": [
        "# solution\n",
        "\n",
        "camera_img = data.camera()\n",
        "\n",
        "fig, axes = plt.subplots(1,2)\n",
        "\n",
        "for ax in axes.flatten():\n",
        "    ax.axis('off')\n",
        "\n",
        "axes[0].imshow(camera_img, cmap=\"gray\")\n",
        "axes[0].set_title(\"Original image\")\n",
        "axes[1].imshow(compute_integral_image(camera_img), cmap=\"gray\")\n",
        "axes[1].set_title(\"Integral image\");"
      ],
      "execution_count": null,
      "outputs": [
        {
          "data": {
            "image/png": "[encoded data removed]",
            "text/plain": [
              "<Figure size 432x288 with 2 Axes>"
            ]
          },
          "metadata": {
            "needs_background": "light"
          },
          "output_type": "display_data"
        }
      ]
    },
    {
      "cell_type": "markdown",
      "metadata": {
        "id": "W8_9CkCk9n2P"
      },
      "source": [
        "### Exercise #2\n",
        "\n",
        "*   Create a function sum_region to compute the sum of the pixel intensities within a rectangle using the integral image. The rectangle will be defined using the top left (x, y) and bottom right (x, y) coordinates."
      ]
    },
    {
      "cell_type": "code",
      "metadata": {
        "id": "dU24XMd892Mw"
      },
      "source": [
        "def sum_region(integral_img_arr, top_left, bottom_right):\n",
        "    (x1,y1) = top_left\n",
        "    (x2,y2) = bottom_right\n",
        "    return integral_img_arr[x2, y2] + integral_img_arr[x1,y1] - integral_img_arr[x2,y1] - integral_img_arr[x1,y2]"
      ],
      "execution_count": null,
      "outputs": []
    },
    {
      "cell_type": "markdown",
      "metadata": {
        "id": "631_iCxd-u0o"
      },
      "source": [
        "*   Make the following tests:"
      ]
    },
    {
      "cell_type": "code",
      "metadata": {
        "id": "_T3Xk2tm-vt7",
        "outputId": "041189bb-2fd9-438e-8c72-29af636f0fc0"
      },
      "source": [
        "# result you should get (12)\n",
        "print(sum_region(ii_img_array, [1, 1], [3, 4]))"
      ],
      "execution_count": null,
      "outputs": [
        {
          "name": "stdout",
          "output_type": "stream",
          "text": [
            "12.0\n"
          ]
        }
      ]
    },
    {
      "cell_type": "code",
      "metadata": {
        "id": "fdUOIZ1G-9Ex",
        "outputId": "1194ad70-e176-4751-9931-380b73b00fdd"
      },
      "source": [
        "# result you should get (32)\n",
        "print(sum_region(ii_img_array, [0, 0], [-1, -1]))"
      ],
      "execution_count": null,
      "outputs": [
        {
          "name": "stdout",
          "output_type": "stream",
          "text": [
            "32.0\n"
          ]
        }
      ]
    },
    {
      "cell_type": "markdown",
      "metadata": {
        "id": "p7JG9MJ9_HXT"
      },
      "source": [
        "### Exercise #3\n",
        "\n",
        "*   Build a function load_integral_images to read all the images inside a given folder and compute the integral image of every image"
      ]
    },
    {
      "cell_type": "code",
      "metadata": {
        "id": "KwYt5HmA_TnD"
      },
      "source": [
        "def load_integral_images(path):\n",
        "    images = []\n",
        "    ii_images = []\n",
        "    for _file in os.listdir(path):\n",
        "        if \".png\" in _file or \".jpg\" in _file:\n",
        "        \n",
        "            #### Complete here:\n",
        "            #### Read image\n",
        "            #### Remember to scale the images (with the max pixel intensity value)\n",
        "            img = io.imread(os.path.join(path, _file))\n",
        "            img = img_as_float(img)\n",
        "            images.append(img)\n",
        "            integral_img = compute_integral_image(img)            \n",
        "            maximum = np.amax(integral_img)\n",
        "            if maximum!=0:\n",
        "                integral_img = integral_img/maximum\n",
        "            ii_images.append(integral_img)\n",
        "\n",
        "    return images, ii_images\n",
        "\n",
        "\n",
        "# With this function we are reading each file in the folder, calculating its integral image and after that normalizing the image.\n",
        "# Finally we put our processed image in the list that we will return"
      ],
      "execution_count": null,
      "outputs": []
    },
    {
      "cell_type": "markdown",
      "metadata": {
        "id": "D1TnCyeV4LJ2"
      },
      "source": [
        "*   Use the load_integral_images function to compute the integral images of training and testing data"
      ]
    },
    {
      "cell_type": "code",
      "metadata": {
        "id": "n_tI5926_fO8"
      },
      "source": [
        "# change paths to your location\n",
        "\n",
        "root_dir = r'images'\n",
        "\n",
        "pos_training_path = os.path.join(root_dir, 'train_data/faces')\n",
        "neg_training_path = os.path.join(root_dir, 'train_data/non_faces')\n",
        "pos_testing_path = os.path.join(root_dir, 'test_data/faces')\n",
        "neg_testing_path = os.path.join(root_dir, 'test_data/non_faces')"
      ],
      "execution_count": null,
      "outputs": []
    },
    {
      "cell_type": "code",
      "metadata": {
        "id": "hLZ1R4JR_Hh0"
      },
      "source": [
        "# solution\n",
        "\n",
        "pos_training_images, pos_training_iis = load_integral_images(pos_training_path)\n",
        "pos_testing_images, pos_testing_iis = load_integral_images(pos_testing_path)\n",
        "neg_training_images, neg_training_iis = load_integral_images(neg_training_path)\n",
        "neg_testing_images, neg_testing_iis = load_integral_images(neg_testing_path)"
      ],
      "execution_count": null,
      "outputs": []
    },
    {
      "cell_type": "markdown",
      "metadata": {
        "id": "oSqDBYX_FbF8"
      },
      "source": [
        "*   Visualize a few original images and the corresponding integral images using matplotlib."
      ]
    },
    {
      "cell_type": "code",
      "metadata": {
        "id": "ZsMTKwfQAuFn",
        "outputId": "7413054d-99f7-4a49-95bc-85423847cbee"
      },
      "source": [
        "# solution\n",
        "\n",
        "fig, axes = plt.subplots(5, 2)\n",
        "\n",
        "fig.set_size_inches(7,14)\n",
        "\n",
        "for ax in axes.flatten():\n",
        "    ax.axis(\"off\")\n",
        "\n",
        "for i, (img, ii) in enumerate(zip(pos_testing_images[:5], pos_testing_iis[:5])):\n",
        "    ax1 = axes[i,0]\n",
        "    ax2 = axes[i,1]\n",
        "    ax1.imshow(img, cmap=\"gray\")\n",
        "    ax1.set_title(\"Original image\")\n",
        "    ax2.imshow(ii, cmap='gray')\n",
        "    ax2.set_title(\"Integral image\")\n",
        "\n",
        "fig.tight_layout()"
      ],
      "execution_count": null,
      "outputs": [
        {
          "data": {
            "image/png": "[encoded data removed]",
            "text/plain": [
              "<Figure size 504x1008 with 10 Axes>"
            ]
          },
          "metadata": {
            "needs_background": "light"
          },
          "output_type": "display_data"
        }
      ]
    },
    {
      "cell_type": "markdown",
      "metadata": {
        "id": "YPrncRBJvxJo"
      },
      "source": [
        "### Exercise #4\n",
        "\n",
        "*   Compute the Haar features of an image.\n",
        "*   We provide you with HaarLikeFeature class that has build in a get_score function and a get_vote function. Your job is to complete the code of the method _create_features in the class HaarLikeFeature:"
      ]
    },
    {
      "cell_type": "code",
      "metadata": {
        "id": "RMcmkZIWwNJ0"
      },
      "source": [
        "def enum(**enums):\n",
        "    return type('Enum', (), enums)\n",
        "\n",
        "FeatureType = enum(TWO_VERTICAL=(1, 2), TWO_HORIZONTAL=(2, 1), THREE_HORIZONTAL=(3, 1), THREE_VERTICAL=(1, 3), FOUR=(2, 2))\n",
        "FeatureTypes = [FeatureType.TWO_VERTICAL, FeatureType.TWO_HORIZONTAL, FeatureType.THREE_VERTICAL, FeatureType.THREE_HORIZONTAL, FeatureType.FOUR]"
      ],
      "execution_count": null,
      "outputs": []
    },
    {
      "cell_type": "code",
      "metadata": {
        "id": "0M_hQ6zwwVP5"
      },
      "source": [
        "class HaarLikeFeature(object):\n",
        "    \"\"\"\n",
        "    Class representing a haar-like feature.\n",
        "    \"\"\"\n",
        "\n",
        "    def __init__(self, feature_type, position, width, height, threshold, polarity):\n",
        "        \"\"\"\n",
        "        Creates a new haar-like feature.\n",
        "        :param feature_type: Type of new feature, see FeatureType enum\n",
        "        :type feature_type: HaarLikeFeature.FeatureTypes\n",
        "        :param position: Top left corner where the feature begins (x, y)\n",
        "        :type position: (int, int)\n",
        "        :param width: Width of the feature\n",
        "        :type width: int\n",
        "        :param height: Height of the feature\n",
        "        :type height: int\n",
        "        :param threshold: Feature threshold\n",
        "        :type threshold: float\n",
        "        :param polarity: polarity of the feature -1 or 1\n",
        "        :type polarity: int\n",
        "        \"\"\"\n",
        "        self.type = feature_type\n",
        "        self.top_left = position\n",
        "        self.bottom_right = (position[0] + width, position[1] + height)\n",
        "        self.width = width\n",
        "        self.height = height\n",
        "        self.threshold = threshold\n",
        "        self.polarity = polarity\n",
        "        self.weight = 1\n",
        "    \n",
        "    def get_score(self, int_img):\n",
        "        \"\"\"\n",
        "        Get score for given integral image array.\n",
        "        :param int_img: Integral image array\n",
        "        :type int_img: numpy.ndarray\n",
        "        \n",
        "        :return: Score for given feature\n",
        "        :rtype: float\n",
        "        \"\"\"\n",
        "        score = 0\n",
        "        if self.type == FeatureType.TWO_VERTICAL:\n",
        "            first = sum_region(int_img, self.top_left, (self.top_left[0] + self.width, int(self.top_left[1] + self.height / 2)))\n",
        "            second = sum_region(int_img, (self.top_left[0], int(self.top_left[1] + self.height / 2)), self.bottom_right)\n",
        "            score = first - second\n",
        "        elif self.type == FeatureType.TWO_HORIZONTAL:\n",
        "            first = sum_region(int_img, self.top_left, (int(self.top_left[0] + self.width / 2), self.top_left[1] + self.height))\n",
        "            second = sum_region(int_img, (int(self.top_left[0] + self.width / 2), self.top_left[1]), self.bottom_right)\n",
        "            score = first - second\n",
        "        elif self.type == FeatureType.THREE_HORIZONTAL:\n",
        "            first = sum_region(int_img, self.top_left, (int(self.top_left[0] + self.width / 3), self.top_left[1] + self.height))\n",
        "            second = sum_region(int_img, (int(self.top_left[0] + self.width / 3), self.top_left[1]), (int(self.top_left[0] + 2 * self.width / 3), self.top_left[1] + self.height))\n",
        "            third = sum_region(int_img, (int(self.top_left[0] + 2 * self.width / 3), self.top_left[1]), self.bottom_right)\n",
        "            score = first - second + third\n",
        "        elif self.type == FeatureType.THREE_VERTICAL:\n",
        "            first = sum_region(int_img, self.top_left, (self.bottom_right[0], int(self.top_left[1] + self.height / 3)))\n",
        "            second = sum_region(int_img, (self.top_left[0], int(self.top_left[1] + self.height / 3)), (self.bottom_right[0], int(self.top_left[1] + 2 * self.height / 3)))\n",
        "            third = sum_region(int_img, (self.top_left[0], int(self.top_left[1] + 2 * self.height / 3)), self.bottom_right)\n",
        "            score = first - second + third\n",
        "        elif self.type == FeatureType.FOUR:\n",
        "            # top left area\n",
        "            first = sum_region(int_img, self.top_left, (int(self.top_left[0] + self.width / 2), int(self.top_left[1] + self.height / 2)))\n",
        "            # top right area\n",
        "            second = sum_region(int_img, (int(self.top_left[0] + self.width / 2), self.top_left[1]), (self.bottom_right[0], int(self.top_left[1] + self.height / 2)))\n",
        "            # bottom left area\n",
        "            third = sum_region(int_img, (self.top_left[0], int(self.top_left[1] + self.height / 2)), (int(self.top_left[0] + self.width / 2), self.bottom_right[1]))\n",
        "            # bottom right area\n",
        "            fourth = sum_region(int_img, (int(self.top_left[0] + self.width / 2), int(self.top_left[1] + self.height / 2)), self.bottom_right)\n",
        "            score = first - second - third + fourth\n",
        "        return score\n",
        "    \n",
        "    def get_vote(self, int_img):\n",
        "        \"\"\"\n",
        "        Get vote of this feature for given integral image.\n",
        "        :param int_img: Integral image array\n",
        "        :type int_img: numpy.ndarray\n",
        "        \n",
        "        :return: 1 iff this feature votes positively, otherwise -1\n",
        "        :rtype: int\n",
        "        \"\"\"\n",
        "        score = self.get_score(int_img)\n",
        "        return self.weight * (1 if score < self.polarity * self.threshold else -1)"
      ],
      "execution_count": null,
      "outputs": []
    },
    {
      "cell_type": "code",
      "metadata": {
        "id": "w9Bv1TanwqEH"
      },
      "source": [
        "def learn(positive_iis, negative_iis, num_classifiers=-1, min_feature_width=1, max_feature_width=-1, min_feature_height=1, max_feature_height=-1):\n",
        "    \"\"\"\n",
        "    Selects a set of classifiers. Iteratively takes the best classifiers based\n",
        "    on a weighted error.\n",
        "    :param positive_iis: List of positive integral image examples\n",
        "    :type positive_iis: list[numpy.ndarray]\n",
        "    :param negative_iis: List of negative integral image examples\n",
        "    :type negative_iis: list[numpy.ndarray]\n",
        "    :param num_classifiers: Number of classifiers to select, -1 will use all\n",
        "    classifiers\n",
        "    :type num_classifiers: int\n",
        "    \n",
        "    :return: List of selected features\n",
        "    :rtype: list[HaarLikeFeature.HaarLikeFeature]\n",
        "    \"\"\"\n",
        "    num_pos = len(positive_iis)\n",
        "    num_neg = len(negative_iis)\n",
        "    num_imgs = num_pos + num_neg\n",
        "    img_height, img_width = positive_iis[0].shape\n",
        "\n",
        "    # Maximum feature width and height default to image width and height\n",
        "    max_feature_height = img_height if max_feature_height == -1 else max_feature_height\n",
        "    max_feature_width = img_width if max_feature_width == -1 else max_feature_width\n",
        "\n",
        "    # Create initial weights and labels\n",
        "    pos_weights = np.ones(num_pos) * 1. / (2 * num_pos)\n",
        "    neg_weights = np.ones(num_neg) * 1. / (2 * num_neg)\n",
        "    weights = np.hstack((pos_weights, neg_weights))\n",
        "    labels = np.hstack((np.ones(num_pos), np.ones(num_neg) * -1)) \n",
        "\n",
        "    images = positive_iis + negative_iis\n",
        "\n",
        "    # Create features for all sizes and locations\n",
        "    features = _create_features(img_height, img_width, min_feature_width, max_feature_width, min_feature_height, max_feature_height)\n",
        "    num_features = len(features)\n",
        "    feature_indexes = list(range(num_features))\n",
        "\n",
        "    num_classifiers = num_features if num_classifiers == -1 else num_classifiers\n",
        "\n",
        "    print('Calculating scores for images..')\n",
        "    t0 = time.time()\n",
        "    votes = np.zeros((num_imgs, num_features))\n",
        "    # Use as many workers as there are CPUs\n",
        "    pool = Pool(processes=8)\n",
        "    for i in range(num_imgs):\n",
        "        votes[i, :] = np.array(list(pool.map(partial(_get_feature_vote, image=images[i]), features)))\n",
        "\n",
        "    \n",
        "    print('\\tTime needed for calculating scores:', time.time()-t0)\n",
        "    \n",
        "    # select classifiers\n",
        "    classifiers = []\n",
        "\n",
        "    t0 = time.time()\n",
        "    print('Selecting classifiers..')\n",
        "    for _ in range(num_classifiers):\n",
        "\n",
        "        classification_errors = np.zeros(len(feature_indexes))\n",
        "\n",
        "        # normalize weights\n",
        "        weights *= 1. / np.sum(weights)\n",
        "\n",
        "        # select best classifier based on the weighted error\n",
        "        for f in range(len(feature_indexes)):\n",
        "            f_idx = feature_indexes[f]\n",
        "            # classifier error is the sum of image weights where the classifier\n",
        "            # is right\n",
        "            error = sum(map(lambda img_idx: weights[img_idx] if labels[img_idx] != votes[img_idx, f_idx] else 0, range(num_imgs)))\n",
        "            classification_errors[f] = error\n",
        "\n",
        "        # get best feature, i.e. with smallest error\n",
        "        min_error_idx = np.argmin(classification_errors)\n",
        "        best_error = classification_errors[min_error_idx]\n",
        "        best_feature_idx = feature_indexes[min_error_idx]\n",
        "\n",
        "        # set feature weight\n",
        "        best_feature = features[best_feature_idx]\n",
        "        feature_weight = 0.5 * np.log((1 - best_error) / best_error)\n",
        "        best_feature.weight = feature_weight\n",
        "\n",
        "        classifiers.append(best_feature)\n",
        "\n",
        "        # update image weights\n",
        "        weights = np.array(list(map(lambda img_idx: weights[img_idx] * np.sqrt((1-best_error)/best_error) if labels[img_idx] != votes[img_idx, best_feature_idx] else weights[img_idx] * np.sqrt(best_error/(1-best_error)), range(num_imgs))))\n",
        "\n",
        "        # remove feature (a feature can't be selected twice)\n",
        "        feature_indexes.remove(best_feature_idx)\n",
        "\n",
        "    print('\\tTime needed for Selecting Classifiers:', time.time()-t0,'\\n')\n",
        "\n",
        "    return classifiers\n",
        "\n",
        "\n",
        "def _get_feature_vote(feature, image):\n",
        "    return feature.get_vote(image)\n",
        "\n",
        "\n",
        "def _create_features(img_height, img_width, min_feature_width, max_feature_width, min_feature_height, max_feature_height):\n",
        "    print('Creating Haar-like features..')\n",
        "    t0 = time.time()\n",
        "    features = []\n",
        "    for feature in FeatureTypes:\n",
        "        # FeatureTypes are just tuples\n",
        "        feature_start_width = max(min_feature_width, feature[0])\n",
        "        for feature_width in range(feature_start_width, max_feature_width, feature[0]):\n",
        "            feature_start_height = max(min_feature_height, feature[1])\n",
        "            for feature_height in range(feature_start_height, max_feature_height, feature[1]):\n",
        "                # Loop over possible x values and y values \n",
        "                # - For each (x,y) create the HarrLikeFeature objects.\n",
        "                # - append the HaarlikeFeatures in the features list.\n",
        "                for x in range(img_width-feature_width):\n",
        "                    for y in range(img_height-feature_height):\n",
        "                        features.append(HaarLikeFeature(feature, (x, y), feature_width, feature_height, 0, 1))\n",
        "                        features.append(HaarLikeFeature(feature, (x, y), feature_width, feature_height, 0, -1))\n",
        "            \n",
        "    print('\\t' + str(len(features)) + ' features created.')\n",
        "    print('\\tTime needed for calculating Haar-like features:', time.time()-t0)\n",
        "    return features"
      ],
      "execution_count": null,
      "outputs": []
    },
    {
      "cell_type": "markdown",
      "metadata": {
        "id": "rHuYBeQyxYGs"
      },
      "source": [
        "### Exercise #5\n",
        "\n",
        "*   Use the learn method to learn a list of two classifiers with the train data. With the learn function you can build a list of classifiers that detect whether an image contains a face or not.\n",
        "\n",
        "*   Use the following hyperparameters of the features and num_classifiers"
      ]
    },
    {
      "cell_type": "code",
      "metadata": {
        "id": "YqnJpKbty91Z"
      },
      "source": [
        "num_classifiers = 2\n",
        "min_feature_height = 8\n",
        "max_feature_height = 10\n",
        "min_feature_width = 8\n",
        "max_feature_width = 10"
      ],
      "execution_count": null,
      "outputs": []
    },
    {
      "cell_type": "code",
      "metadata": {
        "id": "5OTwWIizy_1T",
        "outputId": "08e5d942-44fb-403a-9908-5c8653473a91"
      },
      "source": [
        "%%time \n",
        "\n",
        "classifiers = learn(pos_training_iis, neg_training_iis, num_classifiers, min_feature_width, max_feature_width, min_feature_height, max_feature_height)"
      ],
      "execution_count": null,
      "outputs": [
        {
          "name": "stdout",
          "output_type": "stream",
          "text": [
            "Creating Haar-like features..\n",
            "\t2496 features created.\n",
            "\tTime needed for calculating Haar-like features: 0.012301445007324219\n",
            "Calculating scores for images..\n",
            "\tTime needed for calculating scores: 68.87574362754822\n",
            "Selecting classifiers..\n",
            "\tTime needed for Selecting Classifiers: 18.781365633010864 \n",
            "\n",
            "CPU times: user 1min 23s, sys: 5.44 s, total: 1min 29s\n",
            "Wall time: 1min 27s\n"
          ]
        }
      ]
    },
    {
      "cell_type": "markdown",
      "metadata": {
        "id": "nOSfL5GezGux"
      },
      "source": [
        "### Exercise #6\n",
        "\n",
        "*   Make a function for voting with different classifiers\n",
        "*   Build two functions ensemble_vote and ensemble_vote_all.\n",
        "*   **ensemble_vote(int_img, classifiers)** has to return a 1 if the majority of the votes of the classifiers is positive and a zero otherwise\n",
        "*   **ensemble_vote_all(int_imgs, classifiers)** has to loop over the list int_imgs and compute the ensemble_vote for each image in the list. It has to return a list containing all the votes for all the images in int_imgs.\n"
      ]
    },
    {
      "cell_type": "code",
      "metadata": {
        "id": "v8ITkNPI1vo9"
      },
      "source": [
        "# solution\n",
        "def ensemble_vote(int_img, classifiers):\n",
        "    return 1 if sum([c.get_vote(int_img) for c in classifiers]) > 0 else 0\n",
        "\n",
        "\n",
        "def ensemble_vote_all(int_imgs, classifiers):\n",
        "    return [ensemble_vote(int_img, classifiers=classifiers) for int_img in int_imgs]"
      ],
      "execution_count": null,
      "outputs": []
    },
    {
      "cell_type": "markdown",
      "metadata": {
        "id": "fgn_vG0e1aFs"
      },
      "source": [
        "*   Use the functions to compute the train and test acurracies for faces and non faces.\n",
        "*   Print the results in the following format:\n",
        "\n",
        "```\n",
        "train results:\n",
        "Correctly identified Faces: 2129/2429  (87.64923836969946%)\n",
        "Correctly identified non-Faces: 4276/8548  (50.02339728591484%)\n",
        "\n",
        "test results:\n",
        "Correctly identified Faces: 300/472  (63.559322033898304%)\n",
        "Correctly identified non-Faces: 74/128  (57.8125%)\n",
        "```\n",
        "\n",
        "*   It is not required to get this exact results but print the information in this format. It facilitates understanding the results."
      ]
    },
    {
      "cell_type": "code",
      "metadata": {
        "id": "_eCiAycJ1yCT",
        "outputId": "acec900f-c5a3-492e-b87a-dc08fb4ebc7e"
      },
      "source": [
        "# solution\n",
        "\n",
        "def print_results(classifiers, pos_iis, neg_iis):\n",
        "    true_positives = sum(ensemble_vote_all(pos_iis, classifiers))\n",
        "    true_negatives = len(neg_iis) - sum(ensemble_vote_all(neg_iis, classifiers))\n",
        "    print(f\"Correctly identified Faces: {true_positives}/{len(pos_iis)}  ({100*true_positives/len(pos_iis)}%)\")\n",
        "    print(f\"Correctly identified non-Faces: {true_negatives}/{len(neg_iis)} ({100*true_negatives/len(neg_iis)}%)\")\n",
        "\n",
        "print(\"train results:\")\n",
        "print_results(classifiers, pos_training_iis, neg_training_iis)\n",
        "print(\"\")\n",
        "print(\"test results:\")\n",
        "print_results(classifiers, pos_testing_iis, neg_testing_iis)"
      ],
      "execution_count": null,
      "outputs": [
        {
          "name": "stdout",
          "output_type": "stream",
          "text": [
            "train results:\n",
            "Correctly identified Faces: 2128/2429  (87.60806916426513%)\n",
            "Correctly identified non-Faces: 4273/8555 (49.94739918176505%)\n",
            "\n",
            "test results:\n",
            "Correctly identified Faces: 299/472  (63.347457627118644%)\n",
            "Correctly identified non-Faces: 75/128 (58.59375%)\n"
          ]
        }
      ]
    },
    {
      "cell_type": "markdown",
      "metadata": {
        "id": "GzNiYc-g13n_"
      },
      "source": [
        "### Exercise #7\n",
        "\n",
        "*   Make another test with 20 classifiers instead of 2.\n",
        "*   Inspect the classification results if you use adaboost with 20 classifiers. *   Use the same hyperameters for the features. Print the results as in the previous exercise."
      ]
    },
    {
      "cell_type": "code",
      "metadata": {
        "id": "SYbr5B7Q14yM"
      },
      "source": [
        "num_classifiers = 20\n",
        "min_feature_height = 8\n",
        "max_feature_height = 10\n",
        "min_feature_width = 8\n",
        "max_feature_width = 10"
      ],
      "execution_count": null,
      "outputs": []
    },
    {
      "cell_type": "code",
      "metadata": {
        "id": "G4n9iv_T16_n",
        "outputId": "65c8ee8b-14b5-48ef-c88e-541b31c4c45a"
      },
      "source": [
        "%%time \n",
        "\n",
        "classifiers = learn(pos_training_iis, neg_training_iis, num_classifiers, min_feature_width, max_feature_width, min_feature_height, max_feature_height)"
      ],
      "execution_count": null,
      "outputs": [
        {
          "name": "stdout",
          "output_type": "stream",
          "text": [
            "Creating Haar-like features..\n",
            "\t2496 features created.\n",
            "\tTime needed for calculating Haar-like features: 0.01281428337097168\n",
            "Calculating scores for images..\n",
            "\tTime needed for calculating scores: 68.9334888458252\n",
            "Selecting classifiers..\n",
            "\tTime needed for Selecting Classifiers: 193.72408652305603 \n",
            "\n",
            "CPU times: user 4min 19s, sys: 5.42 s, total: 4min 24s\n",
            "Wall time: 4min 22s\n"
          ]
        }
      ]
    },
    {
      "cell_type": "code",
      "metadata": {
        "id": "jjo3eByrR4Em",
        "outputId": "678922f9-ff61-423a-a227-3a2cdc65b145"
      },
      "source": [
        "print(\"train results:\")\n",
        "print_results(classifiers, pos_training_iis, neg_training_iis)\n",
        "print(\"\")\n",
        "print(\"test results:\")\n",
        "print_results(classifiers, pos_testing_iis, neg_testing_iis)"
      ],
      "execution_count": null,
      "outputs": [
        {
          "name": "stdout",
          "output_type": "stream",
          "text": [
            "train results:\n",
            "Correctly identified Faces: 2225/2429  (91.60148209139564%)\n",
            "Correctly identified non-Faces: 7109/8555 (83.09760374050263%)\n",
            "\n",
            "test results:\n",
            "Correctly identified Faces: 247/472  (52.33050847457627%)\n",
            "Correctly identified non-Faces: 102/128 (79.6875%)\n"
          ]
        }
      ]
    },
    {
      "cell_type": "markdown",
      "metadata": {
        "id": "lx7pAdkt2Las"
      },
      "source": [
        "*   Discuss if the classification results improved in the train data.\n"
      ]
    },
    {
      "cell_type": "markdown",
      "metadata": {
        "id": "uIDiUnYy2Sd_"
      },
      "source": [
        "**Solution**\n",
        "\n",
        "The classification results have improved after this change (specially regarding the non-faces classification). That is because, the higher the number of classifiers, the easier it is for the model to fit to the training data. The different classifiers can \"detect\" different features of the images and complement each other. In other words, the system is more complex and therefore, more capable of dealing with the training data.\n",
        "\n",
        "However, thre is a trade-off between the complexity of the model and its generalisation abitility (overfitting might occur). We don't know if it is the case in our particular situation, given that the results for the faces in the test set is worse but there is also a great improvement regarding the non-faces. Thus, it looks like the usage of more classifiers has led to a a better system that is still able to generalise."
      ]
    },
    {
      "cell_type": "markdown",
      "metadata": {
        "id": "KVRDrIVq2Uqc"
      },
      "source": [
        "### Exercise #8\n",
        "\n",
        "*   Change the voting functions so that you can set a threshold for deciding a prediction.\n",
        "*   The threshold value indicates the minimum score for assigning a \"positive\" label (detect a face).\n",
        "*   Create the following functions\n",
        "    *   ensemble_vote_t: returns the final decision of a list of classifiers for a given threshold.\n",
        "    *   ensemble_vote_all_t: Iterates over a list of integral images and returns the final decision of a list of classifiers for each of the images (for a given threshold)."
      ]
    },
    {
      "cell_type": "code",
      "metadata": {
        "id": "dVKa6Ou12jo9"
      },
      "source": [
        "# solution\n",
        "def ensemble_vote_t(int_img, classifiers, threshold):\n",
        "    return 1 if sum([c.get_vote(int_img) for c in classifiers]) > threshold else 0\n",
        "\n",
        "\n",
        "def ensemble_vote_all_t(int_imgs, classifiers, threshold):\n",
        "    return [ensemble_vote_t(int_img, classifiers, threshold) for int_img in int_imgs]"
      ],
      "execution_count": null,
      "outputs": []
    },
    {
      "cell_type": "markdown",
      "metadata": {
        "id": "xurLySYg2kIL"
      },
      "source": [
        "*   Using the list of 20 classifiers compute the following:\n",
        "\n",
        "    1.   number of correct faces over all faces (in the train data)\n",
        "    2.   number of correct non faces over all non faces (in the train data)\n",
        "    3.   number of correct faces over all faces (in the test data)\n",
        "    4.   number of correct non faces over all non faces (in the test data)\n",
        "\n",
        "*   The quantities have to be computed for each of the following thresholds:\n",
        "```\n",
        "thresholds = np.array([x for x in range(-5,5,1)])/10.\n",
        "```"
      ]
    },
    {
      "cell_type": "code",
      "metadata": {
        "id": "4FdlVDVaR4En"
      },
      "source": [
        "def compute_results_t(classifiers, pos_iis, neg_iis, threshold):\n",
        "    true_positives = sum(ensemble_vote_all_t(pos_iis, classifiers, threshold))\n",
        "    true_negatives = len(neg_iis) - sum(ensemble_vote_all_t(neg_iis, classifiers, threshold))\n",
        "    return 100*true_positives/len(pos_iis), 100*true_negatives/len(neg_iis)"
      ],
      "execution_count": null,
      "outputs": []
    },
    {
      "cell_type": "code",
      "metadata": {
        "id": "qdzWEiPc3FDd",
        "outputId": "02edcf26-7faa-4b72-f8b7-e4bc3fb798ac"
      },
      "source": [
        "# solution\n",
        "\n",
        "thresholds = np.array([x for x in range(-5,5,1)])/10\n",
        "results = []\n",
        "for t in thresholds:\n",
        "    acc_faces, acc_non_faces= compute_results_t(classifiers, pos_training_iis, neg_training_iis, t)\n",
        "    results.append({\n",
        "        \"Threshold\": t,\n",
        "        \"Set\": \"training\",\n",
        "        \"Variable\": \"Acc. Faces\",\n",
        "        \"Value (%)\": acc_faces,\n",
        "    })\n",
        "    results.append({\n",
        "        \"Threshold\": t,\n",
        "        \"Set\": \"training\",\n",
        "        \"Variable\": \"Acc. Non-Faces\",\n",
        "        \"Value (%)\": acc_non_faces\n",
        "    })\n",
        "\n",
        "    acc_faces, acc_non_faces= compute_results_t(classifiers, pos_testing_iis, neg_testing_iis, t)\n",
        "    results.append({\n",
        "        \"Threshold\": t,\n",
        "        \"Set\": \"testing\",\n",
        "        \"Variable\": \"Acc. Faces\",\n",
        "        \"Value (%)\": acc_faces,\n",
        "    })\n",
        "    results.append({\n",
        "        \"Threshold\": t,\n",
        "        \"Set\": \"testing\",\n",
        "        \"Variable\": \"Acc. Non-Faces\",\n",
        "        \"Value (%)\": acc_non_faces\n",
        "    })\n",
        "df_results = pd.DataFrame(results)\n",
        "df_results.head()"
      ],
      "execution_count": null,
      "outputs": [
        {
          "data": {
            "text/html": [
              "<div>\n",
              "<style scoped>\n",
              "    .dataframe tbody tr th:only-of-type {\n",
              "        vertical-align: middle;\n",
              "    }\n",
              "\n",
              "    .dataframe tbody tr th {\n",
              "        vertical-align: top;\n",
              "    }\n",
              "\n",
              "    .dataframe thead th {\n",
              "        text-align: right;\n",
              "    }\n",
              "</style>\n",
              "<table border=\"1\" class=\"dataframe\">\n",
              "  <thead>\n",
              "    <tr style=\"text-align: right;\">\n",
              "      <th></th>\n",
              "      <th>Threshold</th>\n",
              "      <th>Set</th>\n",
              "      <th>Variable</th>\n",
              "      <th>Value (%)</th>\n",
              "    </tr>\n",
              "  </thead>\n",
              "  <tbody>\n",
              "    <tr>\n",
              "      <th>0</th>\n",
              "      <td>-0.5</td>\n",
              "      <td>training</td>\n",
              "      <td>Acc. Faces</td>\n",
              "      <td>97.571017</td>\n",
              "    </tr>\n",
              "    <tr>\n",
              "      <th>1</th>\n",
              "      <td>-0.5</td>\n",
              "      <td>training</td>\n",
              "      <td>Acc. Non-Faces</td>\n",
              "      <td>68.813559</td>\n",
              "    </tr>\n",
              "    <tr>\n",
              "      <th>2</th>\n",
              "      <td>-0.5</td>\n",
              "      <td>testing</td>\n",
              "      <td>Acc. Faces</td>\n",
              "      <td>73.516949</td>\n",
              "    </tr>\n",
              "    <tr>\n",
              "      <th>3</th>\n",
              "      <td>-0.5</td>\n",
              "      <td>testing</td>\n",
              "      <td>Acc. Non-Faces</td>\n",
              "      <td>65.625000</td>\n",
              "    </tr>\n",
              "    <tr>\n",
              "      <th>4</th>\n",
              "      <td>-0.4</td>\n",
              "      <td>training</td>\n",
              "      <td>Acc. Faces</td>\n",
              "      <td>96.500618</td>\n",
              "    </tr>\n",
              "  </tbody>\n",
              "</table>\n",
              "</div>"
            ],
            "text/plain": [
              "   Threshold       Set        Variable  Value (%)\n",
              "0       -0.5  training      Acc. Faces  97.571017\n",
              "1       -0.5  training  Acc. Non-Faces  68.813559\n",
              "2       -0.5   testing      Acc. Faces  73.516949\n",
              "3       -0.5   testing  Acc. Non-Faces  65.625000\n",
              "4       -0.4  training      Acc. Faces  96.500618"
            ]
          },
          "execution_count": 26,
          "metadata": {},
          "output_type": "execute_result"
        }
      ]
    },
    {
      "cell_type": "markdown",
      "metadata": {
        "id": "wg8-nXwc3GCu"
      },
      "source": [
        "*   Make a bar plot for 1-4. In the x axis write the threshold value."
      ]
    },
    {
      "cell_type": "code",
      "metadata": {
        "id": "guWtTfnN3NwQ",
        "outputId": "bb500fb1-af66-419a-d7df-3be3e40a3ddc"
      },
      "source": [
        "# solution\n",
        "\n",
        "sns.catplot(data=df_results, x=\"Threshold\", y=\"Value (%)\", hue=\"Variable\", kind=\"bar\", col=\"Set\", sharey=True);"
      ],
      "execution_count": null,
      "outputs": [
        {
          "data": {
            "image/png": "[encoded data removed]",
            "text/plain": [
              "<Figure size 831.5x360 with 2 Axes>"
            ]
          },
          "metadata": {
            "needs_background": "light"
          },
          "output_type": "display_data"
        }
      ]
    },
    {
      "cell_type": "markdown",
      "metadata": {
        "id": "Ed954GYs3IwK"
      },
      "source": [
        "*   Discuss what happens when you increase the threshold value."
      ]
    },
    {
      "cell_type": "markdown",
      "metadata": {
        "id": "Ri9kU3wa3Rei"
      },
      "source": [
        "**Solution**\n",
        "\n",
        "As we increase the threshold, it is \"more difficult\" for the system to clasify an image as face. This leads to 2 effects that can be appreciated in both sets (training and testing):\n",
        "- The faces precision descreases.\n",
        "- The non-faces precision increases.\n",
        "\n",
        "This result was to be expected. The lower the threshold, the more images will be classified as faces. Even if some of the new detected faces are wrong, this does not affect the face precision, that grows because some faces that had been ignored are now find. The opposite happens with the high thresholds and the precision of the non-faces."
      ]
    },
    {
      "cell_type": "markdown",
      "metadata": {
        "id": "b0o_rbZ5bl42"
      },
      "source": [
        "# Face Recognition using PCA\n"
      ]
    },
    {
      "cell_type": "code",
      "metadata": {
        "id": "MAayTY19blQt"
      },
      "source": [
        "# Loading necessary libraries (Feel free to add new libraries if you need for any computation)\n",
        "\n",
        "from time import time\n",
        "import logging\n",
        "import matplotlib.pyplot as plt\n",
        "import numpy as np\n",
        "import os\n",
        "\n",
        "from sklearn.model_selection import train_test_split\n",
        "from sklearn.model_selection import GridSearchCV\n",
        "from sklearn.datasets import fetch_lfw_people\n",
        "from sklearn.metrics import accuracy_score, classification_report, confusion_matrix\n",
        "from sklearn.decomposition import PCA\n",
        "from sklearn.svm import SVC\n",
        "from sklearn.neighbors import KNeighborsClassifier\n",
        "from sklearn.preprocessing import StandardScaler"
      ],
      "execution_count": null,
      "outputs": []
    },
    {
      "cell_type": "markdown",
      "metadata": {
        "id": "nERZ0O4UVxcB"
      },
      "source": [
        "*   Loading the dataset"
      ]
    },
    {
      "cell_type": "code",
      "metadata": {
        "colab": {
          "base_uri": "https://localhost:8080/"
        },
        "id": "mm9ASG8Cbt8S",
        "outputId": "16c89ac5-4d8a-41d1-9ac1-03205534e4e7"
      },
      "source": [
        "# Download the data, if not already on disk and load it as numpy arrays\n",
        "\n",
        "lfw_people = fetch_lfw_people(min_faces_per_person=70, resize=0.4)\n",
        "\n",
        "# introspect the images arrays to find the shapes\n",
        "n_samples, h, w = lfw_people.images.shape\n",
        "\n",
        "# for machine learning we use the 2 data directly (as relative pixel\n",
        "# positions info is ignored by this model)\n",
        "X = lfw_people.data\n",
        "n_features = X.shape[1]\n",
        "\n",
        "# the label to predict is the id of the person\n",
        "y = lfw_people.target\n",
        "target_names = lfw_people.target_names\n",
        "n_classes = target_names.shape[0]\n",
        "\n",
        "print(\"Total dataset size:\")\n",
        "print(\"n_samples: %d\" % n_samples)\n",
        "print(\"n_features: %d\" % n_features)\n",
        "print(\"n_classes: %d\" % n_classes)"
      ],
      "execution_count": null,
      "outputs": [
        {
          "output_type": "stream",
          "name": "stdout",
          "text": [
            "Total dataset size:\n",
            "n_samples: 1288\n",
            "n_features: 1850\n",
            "n_classes: 7\n"
          ]
        }
      ]
    },
    {
      "cell_type": "markdown",
      "metadata": {
        "id": "0F0uLOBYV064"
      },
      "source": [
        "*   Creating training and testing set"
      ]
    },
    {
      "cell_type": "code",
      "metadata": {
        "colab": {
          "base_uri": "https://localhost:8080/"
        },
        "id": "bZDOq5L9byIc",
        "outputId": "4497d8aa-6538-4945-e896-e385999401bb"
      },
      "source": [
        "# split into a training and testing set\n",
        "X_train, X_test, y_train, y_test = train_test_split(X, y, test_size=0.25, random_state=42)\n",
        "\n",
        "print('Train data shape:', X_train.shape)\n",
        "print('Test data shape:', X_test.shape)\n",
        "print('Number of classes in Train set:', np.unique(y_train).shape[0])"
      ],
      "execution_count": null,
      "outputs": [
        {
          "output_type": "stream",
          "name": "stdout",
          "text": [
            "Train data shape: (966, 1850)\n",
            "Test data shape: (322, 1850)\n",
            "Number of classes in Train set: 7\n"
          ]
        }
      ]
    },
    {
      "cell_type": "markdown",
      "metadata": {
        "id": "oMxf0qqgV884"
      },
      "source": [
        "### Exercise #1: PCA Computation\n",
        "*   Compute a PCA (eigenfaces) on the face dataset\n",
        "    *   *Set* number of components to 100"
      ]
    },
    {
      "cell_type": "markdown",
      "metadata": {
        "id": "eUoFnNfKe41i"
      },
      "source": [
        "PCA, as other machine learning algorithms, is affected by the scale of the data. That is, if we have some variable that it is in a different scale, and it presents values biggers than the rest because of this different scale, the results of PCA will be affected. The principal components are a linear combination of the original features, meaning that a feature with a bigger scale will have more importance, and the principal components will be biased towards those features. For example, if we have only one variable that has a bigger scale than the others, the resulting first principal component will point to the direction of the variance of that variable, meaning that it will only explain that variable and ignore the rest [Importance of scale](https://stats.stackexchange.com/questions/53/pca-on-correlation-or-covariance).\n",
        "\n",
        "For this particular exercise, we are dealing with images, where each feature (i.e. pixel) is in the same scale [0, 255]. For this reason, we should not need to perform any kind of scaling or standarization, as we do not have the situation explained above.   \n",
        "However, as each feature represents the same, being a particular pixel of the images, we will perform the standarization because we do not want some particular pixel that has more variance to be considered more important than another that may have lower variance. After all, it presents a less spreaded distribution. We want all the different pixels to be considered equal, as some particular pixel that has less variance (e.g. those pixels that are part of the eye will probably have very small values), may be equally important than other that has more variance.  \n",
        "With standarization, we will achieve all the features to have the same $\\sigma = 1$, so when computing PCA, we will be using the correlation matrix, as we are dividing the covariance of two features by the product of their standard deviation."
      ]
    },
    {
      "cell_type": "code",
      "metadata": {
        "colab": {
          "base_uri": "https://localhost:8080/"
        },
        "id": "QKgyoUBNYcMs",
        "outputId": "71f17e73-4e49-41f4-d928-956268903253"
      },
      "source": [
        "# solution\n",
        "scaler = StandardScaler()\n",
        "standarized_X_train = scaler.fit_transform(X_train)\n",
        "standarized_X_test = scaler.transform(X_test)\n",
        "\n",
        "pca = PCA(n_components = 100)\n",
        "pca.fit(standarized_X_train)\n",
        "\n",
        "print('10 components of the first eigenvector:')\n",
        "print(pca.components_[0][:10])\n",
        "print()\n",
        "print('5 bigger eigenvalues:')\n",
        "print(pca.explained_variance_[:5])"
      ],
      "execution_count": null,
      "outputs": [
        {
          "output_type": "stream",
          "name": "stdout",
          "text": [
            "10 components of the first eigenvector:\n",
            "[-0.00475197 -0.0055023  -0.00721656 -0.00907872 -0.01057264 -0.01328487\n",
            " -0.01529267 -0.01619428 -0.01761937 -0.01916691]\n",
            "\n",
            "5 bigger eigenvalues:\n",
            "[450.01004  287.76346  135.39613   95.90259   63.120457]\n"
          ]
        }
      ]
    },
    {
      "cell_type": "markdown",
      "metadata": {
        "id": "QNKh2ENIw-Er"
      },
      "source": [
        "*   Reshape the components output of pca to obtain the eigen faces"
      ]
    },
    {
      "cell_type": "code",
      "metadata": {
        "colab": {
          "base_uri": "https://localhost:8080/"
        },
        "id": "0Sg-LFp0xNfj",
        "outputId": "7e4a1001-25f3-4f85-915a-55d01358e329"
      },
      "source": [
        "# solution\n",
        "eigenfaces = np.reshape(pca.components_, (-1, h, w))\n",
        "print(eigenfaces.shape)"
      ],
      "execution_count": null,
      "outputs": [
        {
          "output_type": "stream",
          "name": "stdout",
          "text": [
            "(100, 50, 37)\n"
          ]
        }
      ]
    },
    {
      "cell_type": "markdown",
      "metadata": {
        "id": "G-vVnAknxTMr"
      },
      "source": [
        "*   Project the training and testing faces data on the orthonormal basis"
      ]
    },
    {
      "cell_type": "code",
      "metadata": {
        "id": "PCxUQ13FscJN"
      },
      "source": [
        "# solution\n",
        "transformed_train_data = pca.transform(standarized_X_train)\n",
        "transformed_test_data = pca.transform(standarized_X_test)"
      ],
      "execution_count": null,
      "outputs": []
    },
    {
      "cell_type": "markdown",
      "metadata": {
        "id": "_QUnMNiXx_a_"
      },
      "source": [
        "*   Plot the most significative eigenfaces (Show the top 12 eigenfaces) as a matplotlib"
      ]
    },
    {
      "cell_type": "code",
      "metadata": {
        "colab": {
          "base_uri": "https://localhost:8080/",
          "height": 591
        },
        "id": "dhRvTppZs0I1",
        "outputId": "e63e0504-61ff-4d84-9687-65eb9879473b"
      },
      "source": [
        "# solution\n",
        "fig, axs = plt.subplots(3, 4)\n",
        "fig.set_size_inches(10, 10)\n",
        "\n",
        "axs = axs.flatten()\n",
        "for ax in axs:\n",
        "    ax.axis('off')\n",
        "\n",
        "# The eigenvectors are already sorted by the singular value with sklearn PCA\n",
        "for i in range(12):\n",
        "    axs[i].imshow(eigenfaces[i], cmap='gray')\n",
        "    axs[i].set_title(f'Eigenface {i}')\n",
        "\n",
        "plt.show()\n",
        "fig.tight_layout()"
      ],
      "execution_count": null,
      "outputs": [
        {
          "output_type": "display_data",
          "data": {
            "image/png": "[encoded data removed]",
            "text/plain": [
              "<Figure size 720x720 with 12 Axes>"
            ]
          },
          "metadata": {
            "needs_background": "light"
          }
        }
      ]
    },
    {
      "cell_type": "markdown",
      "metadata": {
        "id": "PGE2CDmeprup"
      },
      "source": [
        "*   Show the total percentage of variance explained by the selected components of the PCA.\n"
      ]
    },
    {
      "cell_type": "code",
      "metadata": {
        "colab": {
          "base_uri": "https://localhost:8080/",
          "height": 312
        },
        "id": "iun4uPF7MVIj",
        "outputId": "34f9472d-d950-4481-b8c7-2a71d6dc6fb1"
      },
      "source": [
        "# solution\n",
        "explained_variance_ratio = pca.explained_variance_ratio_\n",
        "cumulative_explained_var_ratio = np.cumsum(explained_variance_ratio)\n",
        "PCs_index = range(100)\n",
        "\n",
        "plt.bar(PCs_index, explained_variance_ratio, alpha=0.5, align='center', label='Individual explained variance ratio')\n",
        "plt.step(PCs_index, cumulative_explained_var_ratio, where='mid', label='Cumulative explained variance ratio')\n",
        "plt.title('Explained and Cumulative explained variance ratio of the best 100 components')\n",
        "plt.ylabel('Explained variance ratio by PC')\n",
        "plt.xlabel('PC index')\n",
        "plt.legend(loc='best')\n",
        "\n",
        "print(f'Total explained variance ratio of the selected 100 PCs: {cumulative_explained_var_ratio[-1]}')"
      ],
      "execution_count": null,
      "outputs": [
        {
          "output_type": "stream",
          "name": "stdout",
          "text": [
            "Total explained variance ratio of the selected 100 PCs: 0.9267174005508423\n"
          ]
        },
        {
          "output_type": "display_data",
          "data": {
            "image/png": "[encoded data removed]",
            "text/plain": [
              "<Figure size 432x288 with 1 Axes>"
            ]
          },
          "metadata": {
            "needs_background": "light"
          }
        }
      ]
    },
    {
      "cell_type": "markdown",
      "metadata": {
        "id": "bmmCKAv52xxo"
      },
      "source": [
        "*   What are the shortcomings of PCA?"
      ]
    },
    {
      "cell_type": "markdown",
      "metadata": {
        "id": "X9gVxCuS230e"
      },
      "source": [
        "**Solution**\n",
        "\n",
        "* The main disadvantage is the fact that by keeping a reduced number of principal components, we are losing information, as we are omitting PCs that explain some variance of the original data. Typically, we should pick up several PCs that explain at least an 80%~85% of the variance. For example, in the case of the previous exercise where we picked only 12 PCs, we are only retaining the 70% of the variance, losing a considerable 30%. \n",
        "\n",
        "* Another important disadvantage of PCA is the fact that by transforming the original features to principal components, given that the principal components are a linear combination of the original features, they are more difficult to interpret.\n",
        "\n",
        "* PCA generates orthogonal components, and depending on the data spreading, it is possible that those components are not able to optimally capture the variance. That is why other approaches like for example Independent Component Analysis avoid the restriction of the components to be orthogonal.\n",
        "\n",
        "* Another problem is the fact that the principal components are linear combination of the original features. If the relation between those feature is non-linear, PCA cannot detect it, obtaining bad results.\n",
        "\n",
        "* As seen above, PCA needs the data to be standarized to produce useful results. That is, we must ensure the different features are standarized (i.e. mean 0 and std 1) to avoid working with features that are expressed in different units and might present different scales. If this happens, the covariance matrix will present higher values for the pairs of features where one of them has a bigger scale, and the resulting principal components will be biased towards those features, even though the variance that feature creates is not that big. If we standarize them, PCA will be able to correctly find the components that best explain the variance of the input data.\n",
        "\n",
        "* PCA needs to compute the covariance matrix, meaning that it needs to have all the data loaded in memory. If the dataset is relatively large, the dataset will not fit in memory, and PCA will not be able to execute. That is why there are modifications like Incremental PCA to solve this problem.\n"
      ]
    },
    {
      "cell_type": "markdown",
      "metadata": {
        "id": "4Ggw9mNLksIP"
      },
      "source": [
        "### Exercise #2: k-NN Classification\n",
        "\n",
        "*   Train a k-nearest neighbor model with the eigenfaces using the default parameters"
      ]
    },
    {
      "cell_type": "markdown",
      "metadata": {
        "id": "Ish4t3nko5zN"
      },
      "source": [
        "K-NN also suffers from problems of the scale of data. For example, if there is some feature that has a bigger scale than the others, when computing the distance between points, it will have a bigger effect than the others, and maybe that particular feature is not very important to separate classes.\n",
        "\n",
        "For this reason, now that we are working with the projected data obtained from PCA, and we cannot ensure all the features are in the same scale, we are going to standarize the data to ensure we obtain the best possible results with K-NN."
      ]
    },
    {
      "cell_type": "code",
      "metadata": {
        "id": "p1LyuoHwa-IW"
      },
      "source": [
        "scaler = StandardScaler()\n",
        "\n",
        "standarized_transformed_train = scaler.fit_transform(transformed_train_data)\n",
        "standarized_transformed_test = scaler.transform(transformed_test_data)"
      ],
      "execution_count": null,
      "outputs": []
    },
    {
      "cell_type": "code",
      "metadata": {
        "colab": {
          "base_uri": "https://localhost:8080/"
        },
        "id": "s0_Q7bEJb2Rk",
        "outputId": "6aed1ec8-3b2a-4837-bf91-a4c9f10b612a"
      },
      "source": [
        "# solution\n",
        "KNN = KNeighborsClassifier()\n",
        "KNN.fit(standarized_transformed_train, y_train)"
      ],
      "execution_count": null,
      "outputs": [
        {
          "output_type": "execute_result",
          "data": {
            "text/plain": [
              "KNeighborsClassifier()"
            ]
          },
          "metadata": {},
          "execution_count": 48
        }
      ]
    },
    {
      "cell_type": "markdown",
      "metadata": {
        "id": "VTgCFhdnljlN"
      },
      "source": [
        "*   Predict the test data using the trained classifier"
      ]
    },
    {
      "cell_type": "code",
      "metadata": {
        "id": "GWpJTUmFb39U"
      },
      "source": [
        "# Quantitative evaluation of the model quality on the test set\n",
        "y_predicted = KNN.predict(standarized_transformed_test)"
      ],
      "execution_count": null,
      "outputs": []
    },
    {
      "cell_type": "markdown",
      "metadata": {
        "id": "prk7DAVglthc"
      },
      "source": [
        "### Exercise #3: Quantitative results\n",
        "\n",
        "*   Compute accuracy, classification report and confusion matrix of the trained classifier"
      ]
    },
    {
      "cell_type": "code",
      "metadata": {
        "colab": {
          "base_uri": "https://localhost:8080/"
        },
        "id": "FgWoxEbEge1H",
        "outputId": "83824d72-4f08-45a1-f8b6-28f566343a89"
      },
      "source": [
        "# solution\n",
        "accuracy_value = accuracy_score(y_test, y_predicted)\n",
        "print(accuracy_value)"
      ],
      "execution_count": null,
      "outputs": [
        {
          "output_type": "stream",
          "name": "stdout",
          "text": [
            "0.7298136645962733\n"
          ]
        }
      ]
    },
    {
      "cell_type": "code",
      "metadata": {
        "colab": {
          "base_uri": "https://localhost:8080/"
        },
        "id": "400D8Q50ssMu",
        "outputId": "bdfc4152-81f6-46c8-ba01-0933582b70c5"
      },
      "source": [
        "# solution\n",
        "classification_report_ = classification_report(y_test, y_predicted, target_names=target_names)\n",
        "print(classification_report_)"
      ],
      "execution_count": null,
      "outputs": [
        {
          "output_type": "stream",
          "name": "stdout",
          "text": [
            "                   precision    recall  f1-score   support\n",
            "\n",
            "     Ariel Sharon       0.67      0.46      0.55        13\n",
            "     Colin Powell       0.91      0.70      0.79        60\n",
            "  Donald Rumsfeld       0.58      0.52      0.55        27\n",
            "    George W Bush       0.69      0.95      0.80       146\n",
            "Gerhard Schroeder       0.69      0.44      0.54        25\n",
            "      Hugo Chavez       1.00      0.40      0.57        15\n",
            "       Tony Blair       0.85      0.47      0.61        36\n",
            "\n",
            "         accuracy                           0.73       322\n",
            "        macro avg       0.77      0.56      0.63       322\n",
            "     weighted avg       0.75      0.73      0.72       322\n",
            "\n"
          ]
        }
      ]
    },
    {
      "cell_type": "code",
      "metadata": {
        "colab": {
          "base_uri": "https://localhost:8080/"
        },
        "id": "-fxqArN9st78",
        "outputId": "8c2b2486-ee4d-4ac6-81db-cf0244ab8ea7"
      },
      "source": [
        "# solution\n",
        "confusion_matrix_test = confusion_matrix(y_test, y_predicted)\n",
        "print(confusion_matrix_test)"
      ],
      "execution_count": null,
      "outputs": [
        {
          "output_type": "stream",
          "name": "stdout",
          "text": [
            "[[  6   0   2   5   0   0   0]\n",
            " [  1  42   2  15   0   0   0]\n",
            " [  1   1  14   9   1   0   1]\n",
            " [  1   0   5 139   0   0   1]\n",
            " [  0   1   1  11  11   0   1]\n",
            " [  0   2   0   5   2   6   0]\n",
            " [  0   0   0  17   2   0  17]]\n"
          ]
        }
      ]
    },
    {
      "cell_type": "markdown",
      "metadata": {
        "id": "SA7zSojX0Qit"
      },
      "source": [
        "*   Explain the measures showed in the classification report.\n",
        "*   Discuss the obtained classification results, both the quantitative as well as the qualitative results."
      ]
    },
    {
      "cell_type": "markdown",
      "metadata": {
        "id": "zAkZUb370TlZ"
      },
      "source": [
        "**Solution**\n",
        "\n",
        "The classification report show 4 measures that are obtained from the confusion matrix. The confusion matrix is a $cxc$ matrix, being c the number of classes, where the columns represent the number of instances that were predicted to belong to that class, and the rows represent the number of instances that truly are from that class. That is, if $C$ is the confusion matrix, $C_{ij}$ is the number of instances that are from class $i$ that were predicted to belong to class $j$.\n",
        "\n",
        "From each class of a confusion matrix we can extract 4 values:\n",
        "* True Positives: Instances that were predicted to belong to class $c_i$ and really belong to class $c_i$\n",
        "* True Negatives: Instances that were predicted not to belong to class $c_i$, and they do not really belong to class $c_i$\n",
        "* False Positives: Instances predicted to belong to class $c_i$, but they do not really belong to class $c_i$\n",
        "* False Negatives: Instances predicted not to belong to class $c_i$, but they were from class $c_i$.\n",
        "\n",
        "From these 4 quantities we can derive the following metrics: \n",
        "* Precision: From the total number of instances that were predicted to belong to class $c_i$, how many really belong to class $c_i$. $precision = \\frac{TP}{TP + FP}$\n",
        "* Recall: From the total number of instances that really belong to class $c_i$, how many of them we correctly predicted to belong to class $c_i$. $recall = \\frac{TP}{TP + FN}$.\n",
        "* F1-score: It is the harmonic mean of both precision and recall. A harmonic mean is a different type of mean than the arithmetic mean, and is the appropriate one to use when the data are expressed as ratios, like in our case. The harmonic mean has the particularity of tending to the smallest element of the list, meaning that is not that affected by outliers. \n",
        "Besides, the F1-score is a particular case of the F-score, where we assume a parameter $\\beta$ to be 1. $F1-score = 2*\\frac{precision*recall}{precision + recall}$\n",
        "* Support: The number of instances of each class in `y_true`.\n",
        "* Accuracy: The ratio of instances correctly classified. As we can see, we obtain a single value computed by summing the number of instances correctly classified, dividing by the total number of instances."
      ]
    },
    {
      "cell_type": "code",
      "metadata": {
        "colab": {
          "base_uri": "https://localhost:8080/"
        },
        "id": "lBwLzeIi36Dy",
        "outputId": "b512948a-2500-4b0b-c219-83622526d680"
      },
      "source": [
        "unique_labels = np.unique(y_train)\n",
        "print('Train instances for each class:\\n')\n",
        "for i in range(len(unique_labels)):\n",
        "    label = unique_labels[i]\n",
        "    label_data = y_train[y_train == label]\n",
        "    print(f'{target_names[i]}: {label_data.shape[0]}')"
      ],
      "execution_count": null,
      "outputs": [
        {
          "output_type": "stream",
          "name": "stdout",
          "text": [
            "Train instances for each class:\n",
            "\n",
            "Ariel Sharon: 64\n",
            "Colin Powell: 176\n",
            "Donald Rumsfeld: 94\n",
            "George W Bush: 384\n",
            "Gerhard Schroeder: 84\n",
            "Hugo Chavez: 56\n",
            "Tony Blair: 108\n"
          ]
        }
      ]
    },
    {
      "cell_type": "markdown",
      "metadata": {
        "id": "eDauGNENy0nv"
      },
      "source": [
        "First, we want to mention that is possible that if you execute it again the results differ when it comes to the confusion matrix as well as the classification report. Therefore, we have explained based on our execution.\n",
        "\n",
        "We have to take into account that we have a considerable class imbalance, as we have a lot more instances of George W Bush than the other people. Precision and recall are measures that can be more confidently used when we have class imbalance than accuracy.\n",
        "\n",
        "In the case of these classes we have: \n",
        "\n",
        "* Ariel Sharon: We have very few instances of this class in the training set, in comparison to others, and this is repeated in the test set. The small amount of instances makes it more complicated to correctly classify them.  \n",
        "We have a precision of 0.67 because we only have 3 false positives versus the 6 true positives. The recall is worse, as we have more false negatives than true positives (7 vs 6), and only 5 are because we are wrongly classifying Ariel Sharon as George W Bush. We will see this same problem of having more false negatives also with other classes, given that George W Bush has the biggest number of instances in the training set.\n",
        "\n",
        "* Colin Powell: We have a precision of 0.91 and recall of 0.70. This is because we have 42 true positives whereas the number of false positives is only 4. Also, we only have 18 false negatives, being the reason for the big recall. This is because in the training set we have 176 instances of this person, meaning that is more prone to appear in the nearest neighbours, and more easily for the test instances of this class to be correctly voted.\n",
        "\n",
        "* Donald Rumsfeld: It has a precision of 0.58 and recall of 0.52, and the 4th class with more instances in the train set. We only have 14 true positives, whereas the number of false positives is 10, more or less spread among the different classes, and the number of false negatives is 13. As the number of true positives is bigger than the false positives and negatives, we obtain values higher than 0.5, meaning that is slightly better than random.\n",
        "\n",
        "* George W Bush: It is the class with more instances, and this is reflected in the high recall of 0.95, and the good precision of 0.69. We can see how the true positives are 139, whereas the false negatives are only 7, and the false positives are 62, spread among the different classes. It is quite normal to have this small number of false negatives and a bigger amount of false positives, given the big number of instances of this class compared to the amount the other classes have. For this reason, when classifying test instances of other classes, as mentioned, it is quite possible to wrongly classify them as George W Bush because more neighbours will appear from this class. When classifying test instances of this class, it will be easy to correctly classify them.\n",
        "\n",
        "* Gerhard Schroeder: It has good precision, but bad recall. This is because it only has 5 false positives, whereas it has 14 false negatives, more than the true positives, and only the false negatives predicting instances as George W Bush have the same amount as the true positives.\n",
        "\n",
        "* Hugo Chavez. It has perfect precision because it does not have any false positives. However, the recall is bad because it is doing more false negatives than true negatives, 9 vs 6.   \n",
        "This class is the one with fewer instances in the train set, meaning that is quite improbable for some instances of other classes to be wrongly classified as Hugo Chavez. This is also the reason for the bigger number of false negatives, as it will be difficult to correctly classify test instances as Hugo Chavez. \n",
        "We want to notice that we have a similar situation with Ariel Sharon, but the number of false positives was bigger. This is probably because Hugo Chavez is the one with a very different face, and the distances are bigger.\n",
        "\n",
        "* Tony Blair: A good precision but bad recall. Only 3 false positives, 17 true positives, and 19 false negatives. As with other cases before, more instances are wrongly predicted as George W Bush than they are correctly predicted as Tony Blair."
      ]
    },
    {
      "cell_type": "markdown",
      "metadata": {
        "id": "dKx5nTPhzeI1"
      },
      "source": [
        "### Exercise #4\n",
        "\n",
        "*   How is the optimal value of 'k' found?"
      ]
    },
    {
      "cell_type": "markdown",
      "metadata": {
        "id": "CzU6y9kKzlq3"
      },
      "source": [
        "**Solution**\n",
        "\n",
        "To find the optimal value of 'k' we need to fix the other parameters (e.g. distance metric and voting scheme) and extract one subset from the train set that will be called validation set. Then, we will train the algorithm with the new reduced train set, and we will test the results using the metrics explained above using the validation set. The idea is to obtain different metrics to assess the performance of the validation set with each value of 'k'. Then, once we have tested all the values, we will keep the one that has reported the best results overall.\n",
        "Then, once we have the optimal value of 'k', we can retrain the algorithm, and evaluate with the original test set.\n",
        "\n",
        "This explained procedure is what is called cross-validation. An improvement of cross-validation is K-fold cross-validation, where instead of creating the validation set beforehand, we perform different runs, each run with a different validation set. This way we use each instance to train as well as to validate. Then, from each run, we can obtain the metrics and compute an average for each k."
      ]
    },
    {
      "cell_type": "markdown",
      "metadata": {
        "id": "Ce45YY2z4f4A"
      },
      "source": [
        "*   Use GridSearch to find the optimal value of 'k'.\n",
        "    *   *Hint: GridSearchCV is available in sklearn.model_selection*\n",
        "*   What is the accuracy of the best estimator?"
      ]
    },
    {
      "cell_type": "code",
      "metadata": {
        "colab": {
          "base_uri": "https://localhost:8080/"
        },
        "id": "Ge-VPK1U4yGD",
        "outputId": "7e3e2395-439a-4edd-c3cc-517cae367777"
      },
      "source": [
        "# solution\n",
        "parameters = {'n_neighbors': range(1, 21)}\n",
        "\n",
        "grid_search = GridSearchCV(KNeighborsClassifier(), parameters, scoring='accuracy', cv=10)\n",
        "grid_search.fit(standarized_transformed_train, y_train)\n",
        "\n",
        "best_estimator = grid_search.best_estimator_\n",
        "best_k = grid_search.best_params_['n_neighbors']\n",
        "best_score = grid_search.best_score_\n",
        "\n",
        "print(f'Best estimator: {best_estimator}')\n",
        "print(f'Optimal k value: {best_k}')\n",
        "print(f'10-fold Cross-Validation Accuracy: {best_score}')\n",
        "\n",
        "y_pred = best_estimator.predict(standarized_transformed_test)\n",
        "print(f'Test score with best estimator {accuracy_score(y_test, y_pred)}')"
      ],
      "execution_count": null,
      "outputs": [
        {
          "output_type": "stream",
          "name": "stdout",
          "text": [
            "Best estimator: KNeighborsClassifier(n_neighbors=3)\n",
            "Optimal k value: 3\n",
            "10-fold Cross-Validation Accuracy: 0.7174613402061856\n",
            "Test score with best estimator 0.7204968944099379\n"
          ]
        }
      ]
    },
    {
      "cell_type": "markdown",
      "metadata": {
        "id": "WyRlqU3vLQsx"
      },
      "source": [
        "It is interesting to note that the test accuracy with the best estimator is worse with respect to the one obtained with the default parameters (i.e. k = 5). This is probably because with cross-validation we are leaving some of the data to use as a validation set, meaning that we are losing some data when finding the best parameter. Then, the best parameter was found training with less data, resulting in an overall worse test accuracy when it is retrained using all the dataset again."
      ]
    },
    {
      "cell_type": "markdown",
      "metadata": {
        "id": "HFsb6Hgpl6t4"
      },
      "source": [
        "### Exercise #5: Qualitative evaluation\n",
        "\n",
        "*   Plot some of the prediction images using matplotlib subplots (4 x 4). Show the true label and predicted label as the title of each sub plot."
      ]
    },
    {
      "cell_type": "code",
      "metadata": {
        "id": "7hHvjSZ9a-IY"
      },
      "source": [
        "def create_title(prediction, true_label):\n",
        "    true_name = target_names[true_label]\n",
        "    predicted_name = target_names[prediction[0]]\n",
        "    title = f'True: {true_name} vs Predicted: {predicted_name}'\n",
        "    return title"
      ],
      "execution_count": null,
      "outputs": []
    },
    {
      "cell_type": "code",
      "metadata": {
        "colab": {
          "base_uri": "https://localhost:8080/",
          "height": 729
        },
        "id": "8v3p-cffb6Pb",
        "outputId": "40863365-f86e-4fca-f18e-b54d8ca91fdc"
      },
      "source": [
        "# solution\n",
        "fig, axs = plt.subplots(4, 4)\n",
        "fig.set_size_inches(20, 10)\n",
        "axs = axs.flatten()\n",
        "for ax in axs:\n",
        "    ax.axis('off')\n",
        "\n",
        "test_indices = np.random.choice(X_test.shape[0], 16, replace=False)\n",
        "\n",
        "for i in range(16):\n",
        "    index = test_indices[i]\n",
        "    transformed_image = np.expand_dims(standarized_transformed_test[index], axis=0)\n",
        "    \n",
        "    reshaped_original_image = np.reshape(X_test[index], (h, w))\n",
        "    prediction = best_estimator.predict(transformed_image)\n",
        "    \n",
        "    axs[i].imshow(reshaped_original_image, cmap='gray')\n",
        "    axs[i].set_title(create_title(prediction, y_test[index]))\n",
        "\n",
        "fig.tight_layout()"
      ],
      "execution_count": null,
      "outputs": [
        {
          "output_type": "display_data",
          "data": {
            "image/png": "[encoded data removed]",
            "text/plain": [
              "<Figure size 1440x720 with 16 Axes>"
            ]
          },
          "metadata": {
            "needs_background": "light"
          }
        }
      ]
    },
    {
      "cell_type": "markdown",
      "metadata": {
        "id": "FzBM0cRZ2_nN"
      },
      "source": [
        "*   What are the disadvantages of using kNN"
      ]
    },
    {
      "cell_type": "markdown",
      "metadata": {
        "id": "cGzVaVwD3E8i"
      },
      "source": [
        "**Solution**\n",
        "\n",
        "* As explained above, K-NN needs the different features to be normalized/standarized to ensure the distances between points are correctly computed and no feature has more weight than another.\n",
        "* We have to decide the optimal number of neighbours to consider, as choosing a big or small element can suppose considerable differences. Also, we have to decide the distance metric, as well as the voting scheme to decide the final label. That is, we have some parameters that need to be tuned for each dataset.\n",
        "* As seen before, K-NN has problems with class imbalance. Given that we need to select among the nearest neighbours the final label, if we have very few instances in the train set from one class, it is more difficult to correctly predict new instances of that class.\n",
        "* The K-NN algorithm is not really efficient, given that for each point we need to compute the distance to the other points, meaning that it has a $O(n^2)$ temporal cost. It also needs a considerable amount of memory, as we need all the dataset loaded every time to compute the distances between elements. That is, it suffers from the curse of dimensionality.\n",
        "* Given that it computes distances between points, it is really sensitive to outliers and noise. Also, it is not able to deal with missing data, as we need all the values defined when computing distances."
      ]
    },
    {
      "cell_type": "markdown",
      "metadata": {
        "id": "4MjirnTw--8r"
      },
      "source": [
        "\n",
        "---\n",
        "\n",
        "# **End of P3: Face Detection and Recognition**\n",
        "Deadline for P3 submission in CampusVirtual is: **Monday, the 22nd of November, 2021**"
      ]
    }
  ]
}